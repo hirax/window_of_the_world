{
 "cells": [
  {
   "cell_type": "markdown",
   "id": "5ec975bb",
   "metadata": {},
   "source": [
    "# ナイル水辺の「古代エジプトのピラミッド」を眺めに行こう。('24.05.21)\n",
    "\n",
    "\n",
    "## 古代エジプトのピラミッドは、昔の川辺や当時の水路沿いに位置していた\n",
    "\n",
    "「古代エジプトのピラミッドは、昔の川辺や当時の水路沿いに位置していた」という[研究](https://hackaday.com/2024/05/19/rediscovering-the-nile-the-ancient-river-that-was-once-overlooked-by-the-egyptian-pyramids/)が、ノースカロライナ大学ウィルミントン校などの研究グロープから報告されました([論文PDF](https://www.nature.com/articles/s43247-024-01379-7))。\n",
    "報告された内容の、結論部分を示すとこうなります。\n",
    "\n",
    "今から約1万年前に最終氷期が終わり、その後、現在から約6000年前に、エジプトでピラミッドが作られます。\n",
    "その頃のエジプトはアフリカ湿潤期を迎えていました。\n",
    "雨量が多く、ナイル川の川幅は広く、たくさんの支流・水路がありました。\n",
    "そんな水辺沿いに、ピラミッドは作られていたというのです。\n",
    "\n",
    "%<img style=\"float:center;transform: rotate(0deg); height:10cm\" src=\"./images/day_240521_gdal_pyramid_egypt-pyramida.jpg\" />\n",
    "\n",
    "```{figure} ./images/day_240521_gdal_pyramid_egypt-pyramida.jpg\n",
    "---\n",
    "height: 10cm\n",
    "---\n",
    "エジプトのピラミッド\n",
    "```\n"
   ]
  },
  {
   "cell_type": "markdown",
   "id": "76befb82",
   "metadata": {},
   "source": [
    "## ETOPOデータでカイロ近郊の標高データを眺めてみよう\n",
    "\n",
    "[Software Design誌2024年6月号](https://amzn.to/4atSWTx)に書いた、「人類の歩みを眺めるために，過去の世界に行ってみる〜昭和初期から最終氷期まで，時代の水辺にダイブする〜」の手順・コードで、ETOPOデータでカイロ近郊の標高データを眺めてみることにします。\n",
    "\n",
    "まず始めに、ETOPOデータをダウンロードします。\n",
    "[ETOPO Global Relief Model](https://www.ncei.noaa.gov/products/etopo-global-relief-model)の[Grid Extract](https://www.ncei.noaa.gov/maps/grid-extract/)から、所望の場所のデータを手に入れましょう。\n",
    "[Grid Extract](https://www.ncei.noaa.gov/maps/grid-extract/)は、\n",
    "\n",
    " - データ種を選ぶ\n",
    " - 領域を選択する（地図上の領域選択ツールか緯度経度を数値入力する\n",
    " - Download Data ボタンを押す\n",
    " \n",
    "という手順で使います。\n",
    "Download Dataボタンを押せば、GeoTIFFがexportImage.tiffという名前でダウンロードされます。"
   ]
  },
  {
   "cell_type": "code",
   "execution_count": 1,
   "id": "ea0eaec8",
   "metadata": {
    "scrolled": true
   },
   "outputs": [
    {
     "ename": "ImportError",
     "evalue": "dlopen(/opt/anaconda3/envs/jupyter-book-py311/lib/python3.11/site-packages/PIL/_imaging.cpython-311-darwin.so, 0x0002): Library not loaded: @rpath/libtiff.5.dylib\n  Referenced from: <DB29B4E0-5E05-3F26-ABC5-79A53D06F310> /opt/anaconda3/envs/jupyter-book-py311/lib/python3.11/site-packages/PIL/_imaging.cpython-311-darwin.so\n  Reason: tried: '/opt/anaconda3/envs/jupyter-book-py311/lib/python3.11/site-packages/PIL/../../../libtiff.5.dylib' (no such file), '/opt/anaconda3/envs/jupyter-book-py311/lib/python3.11/site-packages/PIL/../../../libtiff.5.dylib' (no such file), '/opt/anaconda3/envs/jupyter-book-py311/bin/../lib/libtiff.5.dylib' (no such file), '/opt/anaconda3/envs/jupyter-book-py311/bin/../lib/libtiff.5.dylib' (no such file), '/usr/local/lib/libtiff.5.dylib' (no such file), '/usr/lib/libtiff.5.dylib' (no such file, not in dyld cache)",
     "output_type": "error",
     "traceback": [
      "\u001b[0;31m---------------------------------------------------------------------------\u001b[0m",
      "\u001b[0;31mImportError\u001b[0m                               Traceback (most recent call last)",
      "Cell \u001b[0;32mIn[1], line 2\u001b[0m\n\u001b[1;32m      1\u001b[0m \u001b[38;5;28;01mimport\u001b[39;00m \u001b[38;5;21;01mnumpy\u001b[39;00m \u001b[38;5;28;01mas\u001b[39;00m \u001b[38;5;21;01mnp\u001b[39;00m\n\u001b[0;32m----> 2\u001b[0m \u001b[38;5;28;01mimport\u001b[39;00m \u001b[38;5;21;01mmatplotlib\u001b[39;00m\u001b[38;5;21;01m.\u001b[39;00m\u001b[38;5;21;01mpyplot\u001b[39;00m \u001b[38;5;28;01mas\u001b[39;00m \u001b[38;5;21;01mplt\u001b[39;00m\n\u001b[1;32m      4\u001b[0m \u001b[38;5;28;01mfrom\u001b[39;00m \u001b[38;5;21;01mosgeo\u001b[39;00m \u001b[38;5;28;01mimport\u001b[39;00m gdal \u001b[38;5;66;03m# conda install conda-forge::gdal\u001b[39;00m\n\u001b[1;32m      5\u001b[0m gdal\u001b[38;5;241m.\u001b[39mUseExceptions()\n",
      "File \u001b[0;32m/opt/anaconda3/envs/jupyter-book-py311/lib/python3.11/site-packages/matplotlib/__init__.py:161\u001b[0m\n\u001b[1;32m    157\u001b[0m \u001b[38;5;28;01mfrom\u001b[39;00m \u001b[38;5;21;01mpackaging\u001b[39;00m\u001b[38;5;21;01m.\u001b[39;00m\u001b[38;5;21;01mversion\u001b[39;00m \u001b[38;5;28;01mimport\u001b[39;00m parse \u001b[38;5;28;01mas\u001b[39;00m parse_version\n\u001b[1;32m    159\u001b[0m \u001b[38;5;66;03m# cbook must import matplotlib only within function\u001b[39;00m\n\u001b[1;32m    160\u001b[0m \u001b[38;5;66;03m# definitions, so it is safe to import from it here.\u001b[39;00m\n\u001b[0;32m--> 161\u001b[0m \u001b[38;5;28;01mfrom\u001b[39;00m \u001b[38;5;21;01m.\u001b[39;00m \u001b[38;5;28;01mimport\u001b[39;00m _api, _version, cbook, _docstring, rcsetup\n\u001b[1;32m    162\u001b[0m \u001b[38;5;28;01mfrom\u001b[39;00m \u001b[38;5;21;01mmatplotlib\u001b[39;00m\u001b[38;5;21;01m.\u001b[39;00m\u001b[38;5;21;01mcbook\u001b[39;00m \u001b[38;5;28;01mimport\u001b[39;00m sanitize_sequence\n\u001b[1;32m    163\u001b[0m \u001b[38;5;28;01mfrom\u001b[39;00m \u001b[38;5;21;01mmatplotlib\u001b[39;00m\u001b[38;5;21;01m.\u001b[39;00m\u001b[38;5;21;01m_api\u001b[39;00m \u001b[38;5;28;01mimport\u001b[39;00m MatplotlibDeprecationWarning\n",
      "File \u001b[0;32m/opt/anaconda3/envs/jupyter-book-py311/lib/python3.11/site-packages/matplotlib/rcsetup.py:27\u001b[0m\n\u001b[1;32m     25\u001b[0m \u001b[38;5;28;01mfrom\u001b[39;00m \u001b[38;5;21;01mmatplotlib\u001b[39;00m \u001b[38;5;28;01mimport\u001b[39;00m _api, cbook\n\u001b[1;32m     26\u001b[0m \u001b[38;5;28;01mfrom\u001b[39;00m \u001b[38;5;21;01mmatplotlib\u001b[39;00m\u001b[38;5;21;01m.\u001b[39;00m\u001b[38;5;21;01mcbook\u001b[39;00m \u001b[38;5;28;01mimport\u001b[39;00m ls_mapper\n\u001b[0;32m---> 27\u001b[0m \u001b[38;5;28;01mfrom\u001b[39;00m \u001b[38;5;21;01mmatplotlib\u001b[39;00m\u001b[38;5;21;01m.\u001b[39;00m\u001b[38;5;21;01mcolors\u001b[39;00m \u001b[38;5;28;01mimport\u001b[39;00m Colormap, is_color_like\n\u001b[1;32m     28\u001b[0m \u001b[38;5;28;01mfrom\u001b[39;00m \u001b[38;5;21;01mmatplotlib\u001b[39;00m\u001b[38;5;21;01m.\u001b[39;00m\u001b[38;5;21;01m_fontconfig_pattern\u001b[39;00m \u001b[38;5;28;01mimport\u001b[39;00m parse_fontconfig_pattern\n\u001b[1;32m     29\u001b[0m \u001b[38;5;28;01mfrom\u001b[39;00m \u001b[38;5;21;01mmatplotlib\u001b[39;00m\u001b[38;5;21;01m.\u001b[39;00m\u001b[38;5;21;01m_enums\u001b[39;00m \u001b[38;5;28;01mimport\u001b[39;00m JoinStyle, CapStyle\n",
      "File \u001b[0;32m/opt/anaconda3/envs/jupyter-book-py311/lib/python3.11/site-packages/matplotlib/colors.py:52\u001b[0m\n\u001b[1;32m     49\u001b[0m \u001b[38;5;28;01mfrom\u001b[39;00m \u001b[38;5;21;01mnumbers\u001b[39;00m \u001b[38;5;28;01mimport\u001b[39;00m Real\n\u001b[1;32m     50\u001b[0m \u001b[38;5;28;01mimport\u001b[39;00m \u001b[38;5;21;01mre\u001b[39;00m\n\u001b[0;32m---> 52\u001b[0m \u001b[38;5;28;01mfrom\u001b[39;00m \u001b[38;5;21;01mPIL\u001b[39;00m \u001b[38;5;28;01mimport\u001b[39;00m Image\n\u001b[1;32m     53\u001b[0m \u001b[38;5;28;01mfrom\u001b[39;00m \u001b[38;5;21;01mPIL\u001b[39;00m\u001b[38;5;21;01m.\u001b[39;00m\u001b[38;5;21;01mPngImagePlugin\u001b[39;00m \u001b[38;5;28;01mimport\u001b[39;00m PngInfo\n\u001b[1;32m     55\u001b[0m \u001b[38;5;28;01mimport\u001b[39;00m \u001b[38;5;21;01mmatplotlib\u001b[39;00m \u001b[38;5;28;01mas\u001b[39;00m \u001b[38;5;21;01mmpl\u001b[39;00m\n",
      "File \u001b[0;32m/opt/anaconda3/envs/jupyter-book-py311/lib/python3.11/site-packages/PIL/Image.py:82\u001b[0m\n\u001b[1;32m     73\u001b[0m MAX_IMAGE_PIXELS \u001b[38;5;241m=\u001b[39m \u001b[38;5;28mint\u001b[39m(\u001b[38;5;241m1024\u001b[39m \u001b[38;5;241m*\u001b[39m \u001b[38;5;241m1024\u001b[39m \u001b[38;5;241m*\u001b[39m \u001b[38;5;241m1024\u001b[39m \u001b[38;5;241m/\u001b[39m\u001b[38;5;241m/\u001b[39m \u001b[38;5;241m4\u001b[39m \u001b[38;5;241m/\u001b[39m\u001b[38;5;241m/\u001b[39m \u001b[38;5;241m3\u001b[39m)\n\u001b[1;32m     76\u001b[0m \u001b[38;5;28;01mtry\u001b[39;00m:\n\u001b[1;32m     77\u001b[0m     \u001b[38;5;66;03m# If the _imaging C module is not present, Pillow will not load.\u001b[39;00m\n\u001b[1;32m     78\u001b[0m     \u001b[38;5;66;03m# Note that other modules should not refer to _imaging directly;\u001b[39;00m\n\u001b[1;32m     79\u001b[0m     \u001b[38;5;66;03m# import Image and use the Image.core variable instead.\u001b[39;00m\n\u001b[1;32m     80\u001b[0m     \u001b[38;5;66;03m# Also note that Image.core is not a publicly documented interface,\u001b[39;00m\n\u001b[1;32m     81\u001b[0m     \u001b[38;5;66;03m# and should be considered private and subject to change.\u001b[39;00m\n\u001b[0;32m---> 82\u001b[0m     \u001b[38;5;28;01mfrom\u001b[39;00m \u001b[38;5;21;01m.\u001b[39;00m \u001b[38;5;28;01mimport\u001b[39;00m _imaging \u001b[38;5;28;01mas\u001b[39;00m core\n\u001b[1;32m     84\u001b[0m     \u001b[38;5;28;01mif\u001b[39;00m __version__ \u001b[38;5;241m!=\u001b[39m \u001b[38;5;28mgetattr\u001b[39m(core, \u001b[38;5;124m\"\u001b[39m\u001b[38;5;124mPILLOW_VERSION\u001b[39m\u001b[38;5;124m\"\u001b[39m, \u001b[38;5;28;01mNone\u001b[39;00m):\n\u001b[1;32m     85\u001b[0m         msg \u001b[38;5;241m=\u001b[39m (\n\u001b[1;32m     86\u001b[0m             \u001b[38;5;124m\"\u001b[39m\u001b[38;5;124mThe _imaging extension was built for another version of Pillow or PIL:\u001b[39m\u001b[38;5;130;01m\\n\u001b[39;00m\u001b[38;5;124m\"\u001b[39m\n\u001b[1;32m     87\u001b[0m             \u001b[38;5;124mf\u001b[39m\u001b[38;5;124m\"\u001b[39m\u001b[38;5;124mCore version: \u001b[39m\u001b[38;5;132;01m{\u001b[39;00m\u001b[38;5;28mgetattr\u001b[39m(core,\u001b[38;5;250m \u001b[39m\u001b[38;5;124m'\u001b[39m\u001b[38;5;124mPILLOW_VERSION\u001b[39m\u001b[38;5;124m'\u001b[39m,\u001b[38;5;250m \u001b[39m\u001b[38;5;28;01mNone\u001b[39;00m)\u001b[38;5;132;01m}\u001b[39;00m\u001b[38;5;130;01m\\n\u001b[39;00m\u001b[38;5;124m\"\u001b[39m\n\u001b[1;32m     88\u001b[0m             \u001b[38;5;124mf\u001b[39m\u001b[38;5;124m\"\u001b[39m\u001b[38;5;124mPillow version: \u001b[39m\u001b[38;5;132;01m{\u001b[39;00m__version__\u001b[38;5;132;01m}\u001b[39;00m\u001b[38;5;124m\"\u001b[39m\n\u001b[1;32m     89\u001b[0m         )\n",
      "\u001b[0;31mImportError\u001b[0m: dlopen(/opt/anaconda3/envs/jupyter-book-py311/lib/python3.11/site-packages/PIL/_imaging.cpython-311-darwin.so, 0x0002): Library not loaded: @rpath/libtiff.5.dylib\n  Referenced from: <DB29B4E0-5E05-3F26-ABC5-79A53D06F310> /opt/anaconda3/envs/jupyter-book-py311/lib/python3.11/site-packages/PIL/_imaging.cpython-311-darwin.so\n  Reason: tried: '/opt/anaconda3/envs/jupyter-book-py311/lib/python3.11/site-packages/PIL/../../../libtiff.5.dylib' (no such file), '/opt/anaconda3/envs/jupyter-book-py311/lib/python3.11/site-packages/PIL/../../../libtiff.5.dylib' (no such file), '/opt/anaconda3/envs/jupyter-book-py311/bin/../lib/libtiff.5.dylib' (no such file), '/opt/anaconda3/envs/jupyter-book-py311/bin/../lib/libtiff.5.dylib' (no such file), '/usr/local/lib/libtiff.5.dylib' (no such file), '/usr/lib/libtiff.5.dylib' (no such file, not in dyld cache)"
     ]
    }
   ],
   "source": [
    "import numpy as np\n",
    "import matplotlib.pyplot as plt\n",
    "\n",
    "from osgeo import gdal # conda install conda-forge::gdal\n",
    "gdal.UseExceptions()\n",
    "\n",
    "# GeoTIFFを読み込み、指定した高さを基準に地図を描く関数を作る\n",
    "# 緯度経度での領域選択を行う部分はコメントアウトしています\n",
    "def draw_map(file, height):\n",
    "    ds=gdal.Open(file)\n",
    "    elevation=ds.ReadAsArray() \n",
    "    nrows, ncols=elevation.shape\n",
    "    #x0, dx, dxdy, y0, dydx, dy = ds.GetGeoTransform()\n",
    "    #x1 = x0 + dx * ncols\n",
    "    #y1 = y0 + dy * nrows\n",
    "    fig=plt.figure(figsize=[200,100])\n",
    "    plt.imshow(np.clip(elevation[50:150,50:150], height, height+100),\n",
    "               cmap='gist_earth') #, extent=[x0, x1, y1, y0])\n",
    "    plt.show()\n",
    "\n",
    "# ダウンロードしたETOPOデータを描画する\n",
    "file='data/day_240521_gdal_pyramid_exportImage.tiff' # 元ファイル名はexportImage.tiff\n",
    "height = 20\n",
    "draw_map(file, height)"
   ]
  },
  {
   "cell_type": "markdown",
   "id": "1c4bce02",
   "metadata": {},
   "source": [
    "## 過去の水辺に吹く風を感じたい。\n",
    "\n",
    "地形を可視化してみると、古代エジプトのピラミッド群は、ナイル川がさまざまに流れていた流域で、その丘上に位置していたように見えます。\n",
    "それはまるで、日本最大の古墳である仁徳天皇陵（大仙陵古墳）を含む百舌鳥（もず）古墳群が、大阪の上町台地上に並んでいることと似ています。\n",
    "エジプトの水辺で、少し小高い場所に並ぶピラミッドを眺めて、水辺を歩く人類の背中を押した、過去の水辺に吹く風を感じたくなります。"
   ]
  },
  {
   "cell_type": "code",
   "execution_count": null,
   "id": "9fce7314",
   "metadata": {},
   "outputs": [],
   "source": []
  }
 ],
 "metadata": {
  "kernelspec": {
   "display_name": "jupyter-book-py311",
   "language": "python",
   "name": "jupyter-book-py311"
  },
  "language_info": {
   "codemirror_mode": {
    "name": "ipython",
    "version": 3
   },
   "file_extension": ".py",
   "mimetype": "text/x-python",
   "name": "python",
   "nbconvert_exporter": "python",
   "pygments_lexer": "ipython3",
   "version": "3.11.9"
  },
  "toc": {
   "base_numbering": 1,
   "nav_menu": {},
   "number_sections": true,
   "sideBar": true,
   "skip_h1_title": false,
   "title_cell": "Table of Contents",
   "title_sidebar": "Contents",
   "toc_cell": false,
   "toc_position": {},
   "toc_section_display": true,
   "toc_window_display": false
  }
 },
 "nbformat": 4,
 "nbformat_minor": 5
}