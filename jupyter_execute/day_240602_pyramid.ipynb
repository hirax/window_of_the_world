{
 "cells": [
  {
   "cell_type": "markdown",
   "id": "6af8be47",
   "metadata": {},
   "source": [
    "# 人工衛星LiDAR画像でピラミッドを見つけ出す('24.06.02)\n",
    "\n",
    "## LiDAR撮影で見つけ出されたジャングルに隠れたピラミッド\n",
    "\n",
    "「グアテマラ北部のジャングルの下に隠れていた古代マヤ文明の建造物が新しいレーザー技術によって発見された」という[記事](https://www.cnn.co.jp/style/architecture/35115470.html)を読んだ。\n",
    "航空機からのLiDAR撮影で、高さ約２７メートルのピラミッドなどが発見されたという。\n",
    "LiDARというのは、照射した光の反射を撮影し、たとえば形状などを推定するために使われる。\n",
    "\n",
    "ピラミッドの形状は、光学的には例えると、車のヘッドライト光を反射するキャッツアイ的な構造だ。\n",
    "だから、ピラミッド構造は、LiDAR撮影画像には独特なパターンとして現れる。\n",
    "そのため、LiDAR撮影画像に生じた模様を分析すれば、ピラミッド的な構造を検出することができる、というわけだ。\n",
    "\n",
    "\n",
    "## Google Earth EngineとfoliumでLiDAR撮影画像/可視光地図を眺める\n",
    "\n",
    "そこで、地球上のさまざまな場所を、地図・人工衛星可視光画像・LiDAR撮影で眺めることができるようにして、未発見のピラミッドを探すことができるようにしてみようと思う。\n",
    "そのためのPythonコード、Google Earth EngineのAPIとfoliumを使って、地図・人工衛星可視光画像・LiDAR撮影で眺めるためのコードを書いて、実行してみる。"
   ]
  },
  {
   "cell_type": "code",
   "execution_count": 1,
   "id": "dce9459c",
   "metadata": {
    "tags": [
     "hide-input"
    ]
   },
   "outputs": [],
   "source": [
    "center=[29.975811646205145, 31.130714568679988]"
   ]
  },
  {
   "cell_type": "code",
   "execution_count": 2,
   "id": "5786cb9b",
   "metadata": {
    "tags": [
     "hide-input"
    ]
   },
   "outputs": [],
   "source": [
    "import folium\n",
    "import ee\n",
    "\n",
    "# GEEの認証\n",
    "ee.Authenticate()\n",
    "ee.Initialize()\n",
    "\n",
    "basemaps = {\n",
    "    'Google Maps': folium.TileLayer(\n",
    "        tiles = 'https://mt1.google.com/vt/lyrs=m&x={x}&y={y}&z={z}',\n",
    "        attr = 'Google',\n",
    "        name = 'Google Maps',\n",
    "        overlay = True,\n",
    "        control = True\n",
    "    ),\n",
    "    'Google Satellite': folium.TileLayer(\n",
    "        tiles = 'https://mt1.google.com/vt/lyrs=s&x={x}&y={y}&z={z}',\n",
    "        attr = 'Google',\n",
    "        name = 'Google Satellite',\n",
    "        overlay = True,\n",
    "        control = True\n",
    "    ),\n",
    "    'Google Terrain': folium.TileLayer(\n",
    "        tiles = 'https://mt1.google.com/vt/lyrs=p&x={x}&y={y}&z={z}',\n",
    "        attr = 'Google',\n",
    "        name = 'Google Terrain',\n",
    "        overlay = True,\n",
    "        control = True\n",
    "    ),\n",
    "    'Google Satellite Hybrid': folium.TileLayer(\n",
    "        tiles = 'https://mt1.google.com/vt/lyrs=y&x={x}&y={y}&z={z}',\n",
    "        attr = 'Google',\n",
    "        name = 'Google Satellite',\n",
    "        overlay = True,\n",
    "        control = True\n",
    "    ),\n",
    "    'Esri Satellite': folium.TileLayer(\n",
    "        tiles = 'https://server.arcgisonline.com/ArcGIS/rest/services/World_Imagery/MapServer/tile/{z}/{y}/{x}',\n",
    "        attr = 'Esri',\n",
    "        name = 'Esri Satellite',\n",
    "        overlay = True,\n",
    "        control = True\n",
    "    )\n",
    "}"
   ]
  },
  {
   "cell_type": "code",
   "execution_count": 3,
   "id": "c45e5973",
   "metadata": {
    "tags": [
     "hide-input",
     "hide-output"
    ]
   },
   "outputs": [
    {
     "ename": "AttributeError",
     "evalue": "type object 'map' has no attribute 'add_child'",
     "output_type": "error",
     "traceback": [
      "\u001b[0;31m---------------------------------------------------------------------------\u001b[0m",
      "\u001b[0;31mAttributeError\u001b[0m                            Traceback (most recent call last)",
      "Cell \u001b[0;32mIn[3], line 32\u001b[0m\n\u001b[1;32m     30\u001b[0m fmap\u001b[38;5;241m.\u001b[39madd_ee_layer(mosaic\u001b[38;5;241m.\u001b[39mselect([\u001b[38;5;124m'\u001b[39m\u001b[38;5;124mVV\u001b[39m\u001b[38;5;124m'\u001b[39m]), {\u001b[38;5;124m'\u001b[39m\u001b[38;5;124mmin\u001b[39m\u001b[38;5;124m'\u001b[39m: \u001b[38;5;241m-\u001b[39m\u001b[38;5;241m25\u001b[39m,\u001b[38;5;124m'\u001b[39m\u001b[38;5;124mmax\u001b[39m\u001b[38;5;124m'\u001b[39m: \u001b[38;5;241m5\u001b[39m}, \u001b[38;5;124m'\u001b[39m\u001b[38;5;124mSentinel-1 VV\u001b[39m\u001b[38;5;124m'\u001b[39m)\n\u001b[1;32m     31\u001b[0m \u001b[38;5;66;03m# コントロール部品を追加\u001b[39;00m\n\u001b[0;32m---> 32\u001b[0m fmap\u001b[38;5;241m.\u001b[39madd_child(folium\u001b[38;5;241m.\u001b[39mLayerControl(collapsed \u001b[38;5;241m=\u001b[39m \u001b[38;5;28;01mFalse\u001b[39;00m)\u001b[38;5;241m.\u001b[39madd_to(\u001b[38;5;28mmap\u001b[39m))\n",
      "File \u001b[0;32m/opt/anaconda3/envs/jupyter-book-py311/lib/python3.11/site-packages/branca/element.py:136\u001b[0m, in \u001b[0;36mElement.add_to\u001b[0;34m(self, parent, name, index)\u001b[0m\n\u001b[1;32m    134\u001b[0m \u001b[38;5;28;01mdef\u001b[39;00m \u001b[38;5;21madd_to\u001b[39m(\u001b[38;5;28mself\u001b[39m, parent, name\u001b[38;5;241m=\u001b[39m\u001b[38;5;28;01mNone\u001b[39;00m, index\u001b[38;5;241m=\u001b[39m\u001b[38;5;28;01mNone\u001b[39;00m):\n\u001b[1;32m    135\u001b[0m \u001b[38;5;250m    \u001b[39m\u001b[38;5;124;03m\"\"\"Add element to a parent.\"\"\"\u001b[39;00m\n\u001b[0;32m--> 136\u001b[0m     parent\u001b[38;5;241m.\u001b[39madd_child(\u001b[38;5;28mself\u001b[39m, name\u001b[38;5;241m=\u001b[39mname, index\u001b[38;5;241m=\u001b[39mindex)\n\u001b[1;32m    137\u001b[0m     \u001b[38;5;28;01mreturn\u001b[39;00m \u001b[38;5;28mself\u001b[39m\n",
      "\u001b[0;31mAttributeError\u001b[0m: type object 'map' has no attribute 'add_child'"
     ]
    }
   ],
   "source": [
    "# foliumマップにGEEを表示させる関数\n",
    "def add_ee_layer(self, ee_image_object, vis_params, name):\n",
    "    map_id_dict = ee.Image(ee_image_object).getMapId(vis_params)\n",
    "    folium.raster_layers.TileLayer(\n",
    "        tiles=map_id_dict['tile_fetcher'].url_format,\n",
    "        attr='<a href=\"https://earthengine.google.com/\">Google Earth Engine</a>',\n",
    "        name=name,\n",
    "        overlay=True,\n",
    "        control=True\n",
    "    ).add_to(self)\n",
    "\n",
    "# 地図を作成\n",
    "fmap = folium.Map(location=center, zoom_start=10)\n",
    "\n",
    "basemaps['Google Maps'].add_to(fmap)\n",
    "basemaps['Google Satellite Hybrid'].add_to(fmap)\n",
    "\n",
    "# Sentinel-1\n",
    "sentinel1 = ee.ImageCollection('COPERNICUS/S1_GRD') \\\n",
    "    .filterDate('2020-01-01', '2023-12-31') \\\n",
    "    .filter(ee.Filter.listContains('transmitterReceiverPolarisation', 'VV')) \\\n",
    "    .filter(ee.Filter.listContains('transmitterReceiverPolarisation', 'VH')) \\\n",
    "    .filter(ee.Filter.eq('instrumentMode', 'IW'))\n",
    "# ImageCollectionからモザイクを作成\n",
    "mosaic = sentinel1.mosaic()\n",
    "\n",
    "# 地図にレイヤーを追加\n",
    "folium.Map.add_ee_layer = add_ee_layer\n",
    "fmap.add_ee_layer(mosaic.select(['VH']), {'min': -25,'max': 5}, 'Sentinel-1 VH')\n",
    "fmap.add_ee_layer(mosaic.select(['VV']), {'min': -25,'max': 5}, 'Sentinel-1 VV')\n",
    "# コントロール部品を追加\n",
    "fmap.add_child(folium.LayerControl(collapsed = False).add_to(map))"
   ]
  },
  {
   "cell_type": "markdown",
   "id": "a2406d66",
   "metadata": {},
   "source": [
    "まずは、人工衛星から撮影した、エジプトのカイロ近くのピラミッド可視光画像を眺めてみる。\n",
    "ピラミッドは、カイロの町近くにあって、こんな景色を眺めて暮らしてみたかった気もする。\n",
    "\n",
    "%<img style=\"float:center;transform: rotate(0deg); height:10cm\" src=\"./images/day_240601_pyramid_rgb.png\" />\n",
    "\n",
    "```{figure} ./images/day_240601_pyramid_rgb.png\n",
    "---\n",
    "height: 10cm\n",
    "---\n",
    "エジプトのカイロ近くのピラミッド（可視光画像）\n",
    "```\n",
    "\n",
    "次に、人工衛星から撮影した、LiDAR画像を眺めてみる。\n",
    "ピラミッド的な構造、キャッツアイ的な構造に光が斜めから当たると、明暗模様が生まれる。\n",
    "そういうことを知った上で下の画像を眺めると、ピラミッドが存在していることがわかる。\n",
    "\n",
    "%<img style=\"float:center;transform: rotate(0deg); height:10cm\" src=\"./images/day_240601_pyramid_lidar.png\" />\n",
    "\n",
    "```{figure} ./images/day_240601_pyramid_lidar.png\n",
    "---\n",
    "height: 10cm\n",
    "---\n",
    "エジプトのカイロ近くのピラミッド（LiDAR画像）\n",
    "```\n"
   ]
  },
  {
   "cell_type": "markdown",
   "id": "b4f3473d",
   "metadata": {},
   "source": [
    "## エジプトから南米まで、世界中にあるピラミッド\n",
    "\n",
    "今日は、未だ発見されていないピラミッドを見つけるための、スタートラインのコードを書いてた。\n",
    "南米のグアテマラにあるピラミッド発見のニュースをきっかけに、アフリカとヨーロッパとアジアの中間に位置するエジプトのピラミッドを眺めると、世界中にピラミッドが点在していることを意識させられる。\n",
    "そして、世界中のピラミッドを眺めに行ってみたいと思う。\n"
   ]
  },
  {
   "cell_type": "code",
   "execution_count": null,
   "id": "0cdf4caa",
   "metadata": {},
   "outputs": [],
   "source": []
  }
 ],
 "metadata": {
  "celltoolbar": "Tags",
  "kernelspec": {
   "display_name": "jupyter-book-py311",
   "language": "python",
   "name": "jupyter-book-py311"
  },
  "language_info": {
   "codemirror_mode": {
    "name": "ipython",
    "version": 3
   },
   "file_extension": ".py",
   "mimetype": "text/x-python",
   "name": "python",
   "nbconvert_exporter": "python",
   "pygments_lexer": "ipython3",
   "version": "3.11.9"
  },
  "toc": {
   "base_numbering": 1,
   "nav_menu": {},
   "number_sections": true,
   "sideBar": true,
   "skip_h1_title": false,
   "title_cell": "Table of Contents",
   "title_sidebar": "Contents",
   "toc_cell": false,
   "toc_position": {},
   "toc_section_display": true,
   "toc_window_display": false
  }
 },
 "nbformat": 4,
 "nbformat_minor": 5
}