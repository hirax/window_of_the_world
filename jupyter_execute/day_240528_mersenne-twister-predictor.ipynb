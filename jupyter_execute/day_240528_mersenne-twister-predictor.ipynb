{
 "cells": [
  {
   "cell_type": "markdown",
   "id": "4191845e",
   "metadata": {},
   "source": [
    "# マラン・メルセンヌは「ヤコブの梯子」の夢をみたか？('24.05.28)\n",
    "\n",
    "## 地上から天国までの距離を計算したメルセンヌ!?\n",
    "\n",
    "16〜17世紀のフランスの学者マラン・メルセンヌについて、[Wikipediaの記載](https://ja.wikipedia.org/wiki/マラン・メルセンヌ)を眺めると\"非常に好奇心が旺盛で、旧約聖書『創世記』28章12節に出てくる「ヤコブの梯子(はしご)」の長さを計算した\"というエピソードが書いてあった。\n",
    "\n",
    "`````{admonition} [マラン・メルセンヌ](https://ja.wikipedia.org/wiki/マラン・メルセンヌ)\n",
    "温和で親切な性質で、当代の研究者達の交流のネットワークを積極的につくりあげた。ガリレオの学術研究もサポートし、いくつかの翻訳作業などを行った。メルセンヌが彼らと交わした膨大な往復書簡は、当代の偉人の業績や生活ぶりを知る現在の貴重な研究資料ともなっている。特にデカルトとは親友であり、デカルトがオランダへ移った際もメルセンヌだけにその居場所を教え交信を続けた。またデカルトによるとメルセンヌは非常に好奇心が旺盛で、旧約聖書『創世記』28章12節に出てくる「ヤコブの梯子」の長さを計算してみるなど「様々なことを知りたがりすぎる」とこぼさせた。\n",
    "`````\n",
    "\n",
    "[ヤコブの梯子](https://ja.wikipedia.org/wiki/ヤコブの梯子_(旧約聖書))というのは、聖書の「創世記」28章に書かれている「地上から天国までを繋いでいる梯子」だ。\n",
    "後にイスラエル（イシャラー（勝者）＋エル（神））という名前を得てユダヤ人の祖となるヤコブが、夢で見たという「地上と天国の間をつなぐ梯子」だ。\n",
    "その梯子を使って、天使たちが地上と天国の間を上り下りしていたという。\n",
    "……デカルトいわく、メルセンヌは「ヤコブの梯子の長さ」を計算した、すなわち「地上から天国までの距離」を計算したというのである。\n",
    "\n",
    "`````{admonition} [創世記 28章](https://www.wordproject.org/bibles/jp/01/28.htm)\n",
    "さてヤコブはベエルシバを立って、ハランへ向かったが、ひとつの所に着いた時、日が暮れたので、そこに一夜を過ごし、その所の石を取ってまくらとし、そこに伏して寝た。時に彼は夢をみた。一つのはしごが地の上に立っていて、その頂は天に達し、神の使たちがそれを上り下りしているのを見た。\n",
    "`````\n",
    "\n",
    "%<img style=\"float:center;transform: rotate(0deg); height:13cm\" src=\"./images/day_240527_mercenne_picture.JPG\" />\n",
    "\n",
    "```{figure} ./images/day_240527_mercenne_picture.JPG\n",
    "---\n",
    "height: 13cm\n",
    "---\n",
    "Picture of the Jacob's Ladder in the original Luther Bibles (of 1534 and also 1545)Soenke Rahn CC BY-SA 4.0\n",
    "```\n",
    "\n",
    "## わずか32段で、天国まで登り着く!?\n",
    "\n",
    "調べてみると、メルセンヌが1623年に書いた”Quaestiones Celeberrimae in Genesis (1623)-創世記の著名な問題\"中に、「問題206番」としてメルセンヌは「ヤコブの梯子」について言及していた。\n",
    "ページで言うと251〜254列にである。\n",
    "そこに書かれていたのは、「梯子の長さ」とか「地上から天国までの距離」ではなく「梯子の段数」だった。\n",
    "また、「長さを計算した」という日本語でのニュアンスとは異なり、算数というよりは（ゲンダイの感覚では）宗教的な考えにもとづいた言及で、メルセンヌいわく、[ヘブライ語での32という数字や「心」という言葉の意味など](https://www.jstage.jst.go.jp/article/kyotojewishthought/7/0/7_7/_pdf/-char/en)を踏まえれば「ヤコブの梯子は32段に違いない」と書いている。\n",
    "\n",
    "「梯子の一段あたりの高さはわからないが、天国は地上からわずか32段で昇ることができる場所にあるのだろうか？とか、「天使は小さくて可愛いという認識が実は間違っていて、天使の本当の姿は超大型の巨人なのだったりするのだろうか」といったようにも感じたりするが、メルセンヌが生きた当時の感覚としては、こうした宗教観にもとづく論理が自然だったのだろう。\n",
    "\n",
    "```{admonition} ヘブライ語での32という数字や「心」という言葉の意味など\n",
    "ユダヤ教神秘主義思想カバラの基本教典である創造の書（セーフェル・イェツィラー、イェツィラーの書）に書かれた内容を踏まえているように思われる。10の「数」（によって象徴される4つの根源的元素と6つの方位）と22の「文字」（によって象徴される元素）を用いた、神による世界の創造の過程を踏まえて、メルセンヌはヤコブの梯子が何段あるかを論じているようだ。\n",
    "```\n",
    "\n",
    "%<img style=\"float:center;transform: rotate(0deg); height:10cm\" src=\"./images/day_240527_mercenne_problem206.png\" />\n",
    "\n",
    "```{figure} ./images/day_240527_mercenne_problem206.png\n",
    "---\n",
    "height: 10cm\n",
    "---\n",
    "『創世記の著名な問題』 問題206番\n",
    "```"
   ]
  },
  {
   "cell_type": "markdown",
   "id": "7e2d2b67",
   "metadata": {},
   "source": [
    "## メルセンヌ素数やメルセンヌ音階にも「ヤコブの梯子」の影響が!?\n",
    "\n",
    "『創世記の著名な問題』を眺めていると、”メルセンヌは、「ヤコブの梯子」を32段だと考えたような発想と類似の考え方で、メルセンヌ素数やメルセンヌ音階を作り出したのかもしれない”と感じたりした。\n",
    "たとえば「神が与えた理想の数字があって、そこに真理が隠されている。その数字を追求すると、真理を見つけ出すことができる」というような考え方で、色々なものを発見したのではないか？という印象を受けてしまう。\n",
    "宗教的な信念と科学が不可分に合わさり森羅万象が語られていて、それはそれで面白い。"
   ]
  },
  {
   "cell_type": "markdown",
   "id": "0f7daeaa",
   "metadata": {},
   "source": [
    "## 32bit×624次元で表される「梯子式」のメルセンヌツイスタ\n",
    "\n",
    "そういえば、Pythonの乱数関数は、メルセンヌ素数を使ったアルゴリズム（メルセンヌ・ツイスタ）で乱数を生成する。\n",
    "32bit×624次元の状態と、梯子ならぬ漸化式を使って、疑似乱数が作り出す。\n",
    "「32という数字」であったり、「梯子ならぬ漸化式」を使った処理をするというあたり、いかにもメルセンヌ本人が好きそうなアルゴリズムである。\n",
    "そこで、「生成された624個の乱数から、624次元の内部状態を計算して、生成される乱数を予測する」ということを、ライブラリを使ってやってみる。\n",
    "\n",
    "まずは、 624個の乱数を眺めていくことで、メルセンヌ・ツイスタの内部状態を計算する。"
   ]
  },
  {
   "cell_type": "code",
   "execution_count": 1,
   "id": "edcbf82d",
   "metadata": {},
   "outputs": [],
   "source": [
    "# https://github.com/NonupleBroken/ExtendMT19937Predictor\n",
    "# pip install extend_mt19937_predictor\n",
    "\n",
    "import random\n",
    "from extend_mt19937_predictor import ExtendMT19937Predictor\n",
    "\n",
    "predictor = ExtendMT19937Predictor()\n",
    "# 624個の乱数を眺めていくことで、内部状態を計算する\n",
    "for _ in range(624):\n",
    "    predictor.setrandbits(random.getrandbits(32), 32)"
   ]
  },
  {
   "cell_type": "markdown",
   "id": "81795d05",
   "metadata": {},
   "source": [
    "Pythonのrandomパッケージで実際に使われている内部状態と推定した内部状態について、624個の内部状態を出力するとのうち最初の20個を出力してみる。\n",
    "32bit×624個の内部状態が、綺麗に推定されているようだ。"
   ]
  },
  {
   "cell_type": "code",
   "execution_count": 2,
   "id": "c5903212",
   "metadata": {
    "scrolled": true
   },
   "outputs": [
    {
     "name": "stdout",
     "output_type": "stream",
     "text": [
      "Pythonのrandomで使われている内部状態： [2471035096 1405147048 2031218815 4098901080  205806112 2582446196\n",
      "  854700861  243325898 3139190641 1904395337 2270178029 3798981071\n",
      " 1497462176 1332397529 3249066718 1540741925 1893516934 1269469907\n",
      " 3033432254 2117439932]\n"
     ]
    }
   ],
   "source": [
    "import numpy as np\n",
    "\n",
    "mt=np.array(random.getstate()[1])[:-1]\n",
    "\n",
    "# 624個の状態(32bit)の最初の20個を表示する\n",
    "print(\"Pythonのrandomで使われている内部状態：\", mt[:20])"
   ]
  },
  {
   "cell_type": "code",
   "execution_count": 3,
   "id": "5bc068d7",
   "metadata": {
    "scrolled": true
   },
   "outputs": [
    {
     "name": "stdout",
     "output_type": "stream",
     "text": [
      "推定した内部状態 [2471035096, 1405147048, 2031218815, 4098901080, 205806112, 2582446196, 854700861, 243325898, 3139190641, 1904395337, 2270178029, 3798981071, 1497462176, 1332397529, 3249066718, 1540741925, 1893516934, 1269469907, 3033432254, 2117439932]\n"
     ]
    }
   ],
   "source": [
    "#  推定した624個の状態(32bit)の最初の20個を表示する\n",
    "print(\"推定した内部状態\", predictor._mt[:20])"
   ]
  },
  {
   "cell_type": "markdown",
   "id": "36992c2c",
   "metadata": {},
   "source": [
    "乱数生成をさらにさせてみると、Pythonのrandomパッケージで出力される数を、きちんと予測することができていることもわかる。"
   ]
  },
  {
   "cell_type": "code",
   "execution_count": 4,
   "id": "1f3163cc",
   "metadata": {},
   "outputs": [
    {
     "name": "stdout",
     "output_type": "stream",
     "text": [
      "random.getrandbits(32) :  2125124147\n",
      "predictor.predict_getrandbits(32) 2125124147\n"
     ]
    }
   ],
   "source": [
    "print('random.getrandbits(32) : ', random.getrandbits(32))\n",
    "print('predictor.predict_getrandbits(32)', predictor.predict_getrandbits(32))"
   ]
  },
  {
   "cell_type": "markdown",
   "id": "7e84f943",
   "metadata": {},
   "source": [
    "## 見つけ出される最大のメルセンヌ素数は「天国に延びる階段」だ!?\n",
    "\n",
    "そういえば、年を経て見つけ出されていく、最大のメルセンヌ素数を折れ線グラフで眺めると、これも「梯子（階段）」に見えてくる。\n",
    "メルセンヌがこのグラフを眺めたら、左下に位置する地上から、右上の先に天国までの段数を計算してくれるかもしれない。\n",
    "\n",
    "%<img style=\"float:center;transform: rotate(0deg); height:10cm\" src=\"./images/day_240527_mercenne_Digits_in_largest_prime_found_as_a_function_of_time.svg.png\" />\n",
    "\n",
    "```{figure} ./images/day_240527_mercenne_Digits_in_largest_prime_found_as_a_function_of_time.svg.png\n",
    "---\n",
    "height: 10cm\n",
    "---\n",
    "年をおって発見される「最大のメルセンヌ素数」　Nicoguaro CC BY 4.0\n",
    "```\n"
   ]
  },
  {
   "cell_type": "code",
   "execution_count": null,
   "id": "895994f1",
   "metadata": {},
   "outputs": [],
   "source": []
  }
 ],
 "metadata": {
  "celltoolbar": "Tags",
  "kernelspec": {
   "display_name": "jupyter-book-py311",
   "language": "python",
   "name": "jupyter-book-py311"
  },
  "language_info": {
   "codemirror_mode": {
    "name": "ipython",
    "version": 3
   },
   "file_extension": ".py",
   "mimetype": "text/x-python",
   "name": "python",
   "nbconvert_exporter": "python",
   "pygments_lexer": "ipython3",
   "version": "3.11.9"
  },
  "toc": {
   "base_numbering": 1,
   "nav_menu": {},
   "number_sections": true,
   "sideBar": true,
   "skip_h1_title": false,
   "title_cell": "Table of Contents",
   "title_sidebar": "Contents",
   "toc_cell": false,
   "toc_position": {},
   "toc_section_display": true,
   "toc_window_display": false
  }
 },
 "nbformat": 4,
 "nbformat_minor": 5
}