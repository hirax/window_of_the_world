{
 "cells": [
  {
   "cell_type": "markdown",
   "id": "2e7bf8c5",
   "metadata": {},
   "source": [
    "# 「算法少女（1775年 壺中隠者版）」掲載の円周率計算をしてみる('24.06.10)\n",
    "\n",
    "## 円周率で始まり、円周率で終わる「算法少女」\n",
    "\n",
    "数日前、[聖書(列王記, 歴代誌)に書かれている円周率問題](https://hirax.github.io/wow/html/day_240607_bible_pi.html)を考えた。\n",
    "1775年、安永4年に書かれた「算法少女」という和算本がある。\n",
    "書き手は、壺中隠者という名前だが、父親と娘による合作本だと言われている。\n",
    "この本は、円周率の求め方で書き始められ、円周率計算の起源に関する記載で終わる。\n",
    "今日は、1775年、安永4年に書かれた「算法少女（壺中隠者版）」に掲載されている計算法を使って、円周率$\\pi$を計算してみようと思う。\n",
    "\n",
    "%<img style=\"float:center;transform: rotate(0deg); height:10cm\" src=\"./images/day_240610_sanpou_pi_begin.png\" />\n",
    "```{figure} ./images/day_240610_sanpou_pi_begin.png\n",
    "---\n",
    "height: 10cm\n",
    "円周率の計算方法(算法少女)\n",
    "```\n",
    "\n",
    "## 「算法少女（1775年 壺中隠者版）」書かれた円周率級数\n",
    "\n",
    "「算法少女（1775年 壺中隠者 版）」に書かれている円周率$\\pi$の求め方は、このような式だ。\n",
    "\n",
    "$$ \\pi = 3 + 3\\times\\frac{1^2}{4\\times2\\times3}+3\\times\\frac{1^2}{4\\times2\\times3}\\times\\frac{2^2}{4\\times3\\times4}+3\\times\\frac{1^2}{4\\times2\\times3}\\times\\frac{2^2}{4\\times3\\times4}\\times\\frac{3^2}{4\\times4\\times5}\\cdots$$\n",
    "\n",
    "単純に書けば、前項に対して$\\frac{n^2}{4\\times(n+1)\\times(n+2)}$という式が掛けられていく級数により円周率を計算することができる、というのが「算法少女（1775年 壺中隠者版）」に書かれている求め方だ※。\n",
    "\n",
    "試しに10番目までの級数計算をしてみる。\n",
    "四捨五入すれば、3.14159265といったあたりまでは、有効な値が得られているようだ。\n",
    "\n",
    "※「算法少女（遠藤寛子1973年版）」では、わかりやすくシンプルにまとめられている"
   ]
  },
  {
   "cell_type": "code",
   "execution_count": 85,
   "id": "ae51a744",
   "metadata": {
    "tags": [
     "hide-input"
    ]
   },
   "outputs": [],
   "source": [
    "# n=orderごとの式\n",
    "def sanpou_pi_element(order):\n",
    "    #print(1+2*(order-1),(1+2*(order-1)+1),(1+2*(order-1)+2))\n",
    "    return (1+2*(order-1))**2 / (4*(1+2*(order-1)+1)*(1+2*(order-1)+2))\n",
    "\n",
    "# 級数計算\n",
    "def sanpou_pi(order):\n",
    "    pi=3\n",
    "    last=3\n",
    "    for i in range(order):\n",
    "        current=sanpou_pi_element(i+1)\n",
    "        last=last*current\n",
    "        pi+=last\n",
    "    return pi"
   ]
  },
  {
   "cell_type": "code",
   "execution_count": 88,
   "id": "81b2e44c",
   "metadata": {},
   "outputs": [
    {
     "data": {
      "text/plain": [
       "3.141592646875561"
      ]
     },
     "execution_count": 88,
     "metadata": {},
     "output_type": "execute_result"
    }
   ],
   "source": [
    "# 10 番目までの級数計算をしてみる\n",
    "sanpou_pi(10)"
   ]
  },
  {
   "cell_type": "markdown",
   "id": "522bbd36",
   "metadata": {},
   "source": [
    "## スマホアプリで古今東西の書物を読むと面白い\n",
    "\n",
    "最近、さまざまな本を読んでいます。\n",
    "たとえば、ヘブライ語で書かれた聖書や、江戸時代の崩し文字で書かれた和書本、あるいは聖書（創世記）に関してメルセンヌがラテン語で解説した書物。\n",
    "全く読み方がわからない書物も、スマホアプリ越しで眺めると、自分が慣れ親しんだ言語として読むことができたりする。\n",
    "……というわけで、今日は約250年前の江戸時代の親娘が書いた本を参考にして、Pythonで円周率計算をしてみた。\n",
    "\n",
    "%<img style=\"float:center;transform: rotate(0deg); height:10cm\" src=\"./images/day_240610_sanpou_pi.png\" />\n",
    "```{figure} ./images/day_240610_sanpou_pi.png\n",
    "---\n",
    "height: 10cm\n",
    "円周率計算の起源に関する記載(算法少女)\n",
    "```\n"
   ]
  },
  {
   "cell_type": "code",
   "execution_count": null,
   "id": "72bf4ebb",
   "metadata": {},
   "outputs": [],
   "source": []
  }
 ],
 "metadata": {
  "celltoolbar": "Tags",
  "kernelspec": {
   "display_name": "jupyter-book-py311",
   "language": "python",
   "name": "jupyter-book-py311"
  },
  "language_info": {
   "codemirror_mode": {
    "name": "ipython",
    "version": 3
   },
   "file_extension": ".py",
   "mimetype": "text/x-python",
   "name": "python",
   "nbconvert_exporter": "python",
   "pygments_lexer": "ipython3",
   "version": "3.11.9"
  },
  "toc": {
   "base_numbering": 1,
   "nav_menu": {},
   "number_sections": true,
   "sideBar": true,
   "skip_h1_title": false,
   "title_cell": "Table of Contents",
   "title_sidebar": "Contents",
   "toc_cell": false,
   "toc_position": {},
   "toc_section_display": true,
   "toc_window_display": false
  }
 },
 "nbformat": 4,
 "nbformat_minor": 5
}