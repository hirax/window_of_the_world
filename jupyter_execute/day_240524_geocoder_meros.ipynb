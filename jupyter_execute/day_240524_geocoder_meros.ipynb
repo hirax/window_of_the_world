{
 "cells": [
  {
   "cell_type": "markdown",
   "id": "bb35b3cd",
   "metadata": {},
   "source": [
    "# 史実を辿る「走れメロス」計算 ♯1 ('24.05.24)"
   ]
  },
  {
   "cell_type": "markdown",
   "id": "a991dcc1",
   "metadata": {},
   "source": [
    "太宰治「走れメロス」では、主人公メロスは、友人セリヌンティウスを人質として残し、シラクスの市街から十里(40km)離れた村まで3日間かけて往復する。\n",
    "太宰が書いた「走れメロス」物語は、18世紀ドイツのフリードリヒ・フォン・シラーがしたためた書物の日本訳※をベースにしている。\n",
    "\n",
    "太宰版「走れメロス」については、メロスの移動速度を検証した[優れた文献](https://www.rimse.or.jp/research/past/pdf/1st/work03.pdf)がある。\n",
    "しかし、史実に遡った移動速度検証は試みられていない。\n",
    "そこで、そうした計算をしてみようと思う。\n",
    "\n",
    "※ 新編シラー詩抄 小栗孝則訳 改造文庫（昭和12年）"
   ]
  },
  {
   "cell_type": "markdown",
   "id": "be48c31e",
   "metadata": {},
   "source": [
    "「走れメロス」は、そのルーツを辿ると、紀元前400年頃のイタリア、ディオニュシオス1世・2世の時代に遡る。\n",
    "語られる内容にはバリエーションがあるが、比較的多いパターンは、ディオニュシオスから死刑を宣告されたピュティアスが友人ダモンを人質にして家まで往復をする、というものだ。\n",
    "帰ってくるまでのタイムリミットは、当日の日暮れまでというものもあれば、三日後の日暮れとか数日後の日暮れまでというものもある。\n",
    "\n",
    "%<img style=\"float:center;transform: rotate(0deg); height:10cm\" src=\"./images/day_240524_geocoder_meros_Damon_and_Pythias.gif\" />\n",
    "\n",
    "```{figure} ./images/day_240524_geocoder_meros_Damon_and_Pythias.gif\n",
    "---\n",
    "height: 10cm\n",
    "---\n",
    "The story of Greeksの挿絵\n",
    "```"
   ]
  },
  {
   "cell_type": "markdown",
   "id": "ca349eb7",
   "metadata": {},
   "source": [
    "## 竹馬の友セリヌンティウスと過ごした村には戻れない\n",
    "\n",
    "まずは、太宰治版の物語に登場する名前にもとづいて、メロスが往復した先を調べてみる。※\n",
    "\n",
    "メロスがシラクサ(Siracusa)の街に人質として残したのは、竹馬の友、つまり小さい頃から共に過ごした友人であるセリヌンティウスだ。\n",
    "セリヌンティウスというのは、そのものズバリ「セリヌスの人」という名前だ。\n",
    "ということは、メロスとセリヌンティウスが幼い頃に暮らしていた場所は、シチリア島の南西部、セリヌス（Selinous）だろう。\n",
    "\n",
    "SiracusaとSelinunteの緯度経度を調べて、地図に描いてみるとこうなる。\n",
    "\n",
    "※太宰治が書いた物語にもとづくが、今回は登場人物の名前のみに着目してみる。すなわち、メロスが向かった先が「シラクスから十里先」という記述は、ひとまず忘れておくことにする。"
   ]
  },
  {
   "cell_type": "code",
   "execution_count": 1,
   "id": "934c9b07",
   "metadata": {
    "tags": [
     "hide-input"
    ]
   },
   "outputs": [
    {
     "name": "stdout",
     "output_type": "stream",
     "text": [
      "Siracusa,Italy [37.0646139, 15.2907196]\n",
      "Selinunte,Italy [37.5884265, 12.82465071085111]\n"
     ]
    }
   ],
   "source": [
    "# Geocoderパッケージを使う\n",
    "import geocoder  # conda install conda-forge::geocoder\n",
    "import time\n",
    "\n",
    "# 地名文字列\n",
    "place1='Siracusa,Italy'\n",
    "place2='Selinunte,Italy'\n",
    "\n",
    "# 緯度経度を取得する\n",
    "# 実際に取得する時\n",
    "ua={\"User-Agent\": \"sample for python\"}\n",
    "siracusa=geocoder.osm(place1, timeout=5.0,headers=ua).latlng\n",
    "time.sleep(3)\n",
    "selinunte=geocoder.osm(place2, timeout=5.0,headers=ua).latlng\n",
    "\n",
    "#jupyter{book}ビルド用\n",
    "#siracusa=[37.075474, 15.286586]\n",
    "#selinunte=[37.583, 12.817]\n",
    "\n",
    "# 確認表示\n",
    "print(place1, siracusa)\n",
    "print(place2, selinunte)"
   ]
  },
  {
   "cell_type": "code",
   "execution_count": 2,
   "id": "76607ed9",
   "metadata": {
    "tags": [
     "hide-input"
    ]
   },
   "outputs": [
    {
     "data": {
      "text/html": [
       "<div style=\"width:100%;\"><div style=\"position:relative;width:100%;height:0;padding-bottom:60%;\"><span style=\"color:#565656\">Make this Notebook Trusted to load map: File -> Trust Notebook</span><iframe srcdoc=\"&lt;!DOCTYPE html&gt;\n",
       "&lt;html&gt;\n",
       "&lt;head&gt;\n",
       "    \n",
       "    &lt;meta http-equiv=&quot;content-type&quot; content=&quot;text/html; charset=UTF-8&quot; /&gt;\n",
       "    \n",
       "        &lt;script&gt;\n",
       "            L_NO_TOUCH = false;\n",
       "            L_DISABLE_3D = false;\n",
       "        &lt;/script&gt;\n",
       "    \n",
       "    &lt;style&gt;html, body {width: 100%;height: 100%;margin: 0;padding: 0;}&lt;/style&gt;\n",
       "    &lt;style&gt;#map {position:absolute;top:0;bottom:0;right:0;left:0;}&lt;/style&gt;\n",
       "    &lt;script src=&quot;https://cdn.jsdelivr.net/npm/leaflet@1.9.3/dist/leaflet.js&quot;&gt;&lt;/script&gt;\n",
       "    &lt;script src=&quot;https://code.jquery.com/jquery-3.7.1.min.js&quot;&gt;&lt;/script&gt;\n",
       "    &lt;script src=&quot;https://cdn.jsdelivr.net/npm/bootstrap@5.2.2/dist/js/bootstrap.bundle.min.js&quot;&gt;&lt;/script&gt;\n",
       "    &lt;script src=&quot;https://cdnjs.cloudflare.com/ajax/libs/Leaflet.awesome-markers/2.0.2/leaflet.awesome-markers.js&quot;&gt;&lt;/script&gt;\n",
       "    &lt;link rel=&quot;stylesheet&quot; href=&quot;https://cdn.jsdelivr.net/npm/leaflet@1.9.3/dist/leaflet.css&quot;/&gt;\n",
       "    &lt;link rel=&quot;stylesheet&quot; href=&quot;https://cdn.jsdelivr.net/npm/bootstrap@5.2.2/dist/css/bootstrap.min.css&quot;/&gt;\n",
       "    &lt;link rel=&quot;stylesheet&quot; href=&quot;https://netdna.bootstrapcdn.com/bootstrap/3.0.0/css/bootstrap.min.css&quot;/&gt;\n",
       "    &lt;link rel=&quot;stylesheet&quot; href=&quot;https://cdn.jsdelivr.net/npm/@fortawesome/fontawesome-free@6.2.0/css/all.min.css&quot;/&gt;\n",
       "    &lt;link rel=&quot;stylesheet&quot; href=&quot;https://cdnjs.cloudflare.com/ajax/libs/Leaflet.awesome-markers/2.0.2/leaflet.awesome-markers.css&quot;/&gt;\n",
       "    &lt;link rel=&quot;stylesheet&quot; href=&quot;https://cdn.jsdelivr.net/gh/python-visualization/folium/folium/templates/leaflet.awesome.rotate.min.css&quot;/&gt;\n",
       "    \n",
       "            &lt;meta name=&quot;viewport&quot; content=&quot;width=device-width,\n",
       "                initial-scale=1.0, maximum-scale=1.0, user-scalable=no&quot; /&gt;\n",
       "            &lt;style&gt;\n",
       "                #map_faa60ae1eb655fefba1351809a2184e8 {\n",
       "                    position: relative;\n",
       "                    width: 100.0%;\n",
       "                    height: 100.0%;\n",
       "                    left: 0.0%;\n",
       "                    top: 0.0%;\n",
       "                }\n",
       "                .leaflet-container { font-size: 1rem; }\n",
       "            &lt;/style&gt;\n",
       "        \n",
       "&lt;/head&gt;\n",
       "&lt;body&gt;\n",
       "    \n",
       "    \n",
       "            &lt;div class=&quot;folium-map&quot; id=&quot;map_faa60ae1eb655fefba1351809a2184e8&quot; &gt;&lt;/div&gt;\n",
       "        \n",
       "&lt;/body&gt;\n",
       "&lt;script&gt;\n",
       "    \n",
       "    \n",
       "            var map_faa60ae1eb655fefba1351809a2184e8 = L.map(\n",
       "                &quot;map_faa60ae1eb655fefba1351809a2184e8&quot;,\n",
       "                {\n",
       "                    center: [37.0646139, 15.2907196],\n",
       "                    crs: L.CRS.EPSG3857,\n",
       "                    zoom: 6,\n",
       "                    zoomControl: true,\n",
       "                    preferCanvas: false,\n",
       "                }\n",
       "            );\n",
       "\n",
       "            \n",
       "\n",
       "        \n",
       "    \n",
       "            var tile_layer_f687fe9951d07ecc1ecee0db107d09b5 = L.tileLayer(\n",
       "                &quot;https://tile.openstreetmap.org/{z}/{x}/{y}.png&quot;,\n",
       "                {&quot;attribution&quot;: &quot;\\u0026copy; \\u003ca href=\\&quot;https://www.openstreetmap.org/copyright\\&quot;\\u003eOpenStreetMap\\u003c/a\\u003e contributors&quot;, &quot;detectRetina&quot;: false, &quot;maxNativeZoom&quot;: 19, &quot;maxZoom&quot;: 19, &quot;minZoom&quot;: 0, &quot;noWrap&quot;: false, &quot;opacity&quot;: 1, &quot;subdomains&quot;: &quot;abc&quot;, &quot;tms&quot;: false}\n",
       "            );\n",
       "        \n",
       "    \n",
       "            tile_layer_f687fe9951d07ecc1ecee0db107d09b5.addTo(map_faa60ae1eb655fefba1351809a2184e8);\n",
       "        \n",
       "    \n",
       "            var marker_9c82ed4b92f22902cac83cc21c5180a2 = L.marker(\n",
       "                [37.0646139, 15.2907196],\n",
       "                {}\n",
       "            ).addTo(map_faa60ae1eb655fefba1351809a2184e8);\n",
       "        \n",
       "    \n",
       "            var icon_9945b78e560b9e2915941676c7c483c7 = L.AwesomeMarkers.icon(\n",
       "                {&quot;extraClasses&quot;: &quot;fa-rotate-0&quot;, &quot;icon&quot;: &quot;info-sign&quot;, &quot;iconColor&quot;: &quot;white&quot;, &quot;markerColor&quot;: &quot;black&quot;, &quot;prefix&quot;: &quot;glyphicon&quot;}\n",
       "            );\n",
       "            marker_9c82ed4b92f22902cac83cc21c5180a2.setIcon(icon_9945b78e560b9e2915941676c7c483c7);\n",
       "        \n",
       "    \n",
       "            var marker_ede992aefb56bd2f413f3ffc733e9b37 = L.marker(\n",
       "                [37.5884265, 12.82465071085111],\n",
       "                {}\n",
       "            ).addTo(map_faa60ae1eb655fefba1351809a2184e8);\n",
       "        \n",
       "    \n",
       "            var icon_74e34814b295bf00499fcb1408c3d81b = L.AwesomeMarkers.icon(\n",
       "                {&quot;extraClasses&quot;: &quot;fa-rotate-0&quot;, &quot;icon&quot;: &quot;info-sign&quot;, &quot;iconColor&quot;: &quot;white&quot;, &quot;markerColor&quot;: &quot;blue&quot;, &quot;prefix&quot;: &quot;glyphicon&quot;}\n",
       "            );\n",
       "            marker_ede992aefb56bd2f413f3ffc733e9b37.setIcon(icon_74e34814b295bf00499fcb1408c3d81b);\n",
       "        \n",
       "&lt;/script&gt;\n",
       "&lt;/html&gt;\" style=\"position:absolute;width:100%;height:100%;left:0;top:0;border:none !important;\" allowfullscreen webkitallowfullscreen mozallowfullscreen></iframe></div></div>"
      ],
      "text/plain": [
       "<folium.folium.Map at 0x10860e490>"
      ]
     },
     "execution_count": 2,
     "metadata": {},
     "output_type": "execute_result"
    }
   ],
   "source": [
    "# foliumパッケージを使う\n",
    "import folium\n",
    "\n",
    "#lat1,lon1 = siracusa.latlng\n",
    "#lat2,lon2 = selinunte.latlng\n",
    "lat1,lon1 = siracusa\n",
    "lat2,lon2 = selinunte\n",
    "\n",
    "# 地図を作る\n",
    "fmap = folium.Map(location=siracusa,zoom_start=6)\n",
    "#fmap = folium.Map(location=siracusa.latlng,zoom_start=6)\n",
    "\n",
    "# マーカープロット\n",
    "folium.Marker(location=[lat1,lon1],\n",
    "              icon=folium.Icon(color='black')\n",
    "             ).add_to(fmap)\n",
    "folium.Marker(location=[lat2,lon2],icon=folium.Icon(color='blue')\n",
    "             ).add_to(fmap)\n",
    "fmap # 表示する"
   ]
  },
  {
   "cell_type": "markdown",
   "id": "259b9ee6",
   "metadata": {},
   "source": [
    "SiracusaとSelinunteは、シチリア島の中でもほとんど東西の反対側に位置していて、かなり遠い。\n",
    "実際、距離を計算してみると、直線距離でも226kmほどもある。"
   ]
  },
  {
   "cell_type": "code",
   "execution_count": 3,
   "id": "d4ad26c8",
   "metadata": {
    "tags": [
     "hide-input"
    ]
   },
   "outputs": [
    {
     "name": "stdout",
     "output_type": "stream",
     "text": [
      "226.1579735777327 (km)\n"
     ]
    }
   ],
   "source": [
    "# geopyパッケージを使う\n",
    "from geopy.distance import geodesic # conda install conda-forge::geopy\n",
    "\n",
    "distance_km = geodesic(siracusa, selinunte).km\n",
    "print(distance_km,'(km)')"
   ]
  },
  {
   "cell_type": "markdown",
   "id": "e1b4b9d1",
   "metadata": {},
   "source": [
    "このシラクス（Siracusa）からSelinunteまでを距離226km×2=452kmを、メロスは往復したことになる。\n",
    "\n",
    "日暮れが遅い時期、たとえば夏至の頃のシチリア島での「日暮れ」を調べると、およそ18時30分くらいだ。\n",
    "すると、たとえば当日の日暮れまでの往復だと、直線距離でも時速53kmという非現実的な速度でなければ、メロスは往復できない。\n",
    "タイムリミットが、太宰が描いたような三日後の日暮れまでであれば、夜も昼も走り続けること前提の上で、時速5.6kmという現実的な速さになる。\n",
    "しかし、三日三晩不眠不休で走り続けるというのは、実際問題無理だろう。"
   ]
  },
  {
   "cell_type": "code",
   "execution_count": 4,
   "id": "3096795d",
   "metadata": {
    "tags": [
     "hide-input"
    ]
   },
   "outputs": [
    {
     "name": "stdout",
     "output_type": "stream",
     "text": [
      "日の出時間： 2024/6/22 03:02:34\n",
      "日暮れ時間： 2024/6/21 16:04:56\n",
      "＋ 2 時間 28 分\n",
      "当日日暮れまでだった場合 53.1764705882353 km/h\n",
      "三日後の日暮れだった場合 5.614906832298137 km/h\n"
     ]
    }
   ],
   "source": [
    "# PyEphem astronomy libraryを使う\n",
    "import ephem # conda install anaconda::ephem\n",
    "import datetime\n",
    "\n",
    "siracusa_obs = ephem.Observer()\n",
    "siracusa_obs.lon = str(siracusa[0])\n",
    "siracusa_obs.lat = str(siracusa[1])\n",
    "siracusa_obs.date = ephem.Date('2024/06/21 13:0:0.0')\n",
    "sun = ephem.Sun()\n",
    "\n",
    "print('日の出時間：', siracusa_obs.next_rising(sun))\n",
    "print('日暮れ時間：', siracusa_obs.next_setting(sun))\n",
    "\n",
    "import math\n",
    "\n",
    "h=siracusa[0]/15.\n",
    "m=(h-math.floor(h))*60\n",
    "h=math.floor(h)\n",
    "\n",
    "print('＋',h,'時間',int(m),'分')\n",
    "\n",
    "print('当日日暮れまでだった場合',226*2/8.5,'km/h')\n",
    "print('三日後の日暮れだった場合',226*2/(24*3+8.5),'km/h')"
   ]
  },
  {
   "cell_type": "markdown",
   "id": "86fb8937",
   "metadata": {},
   "source": [
    "## 文献を調べて計算をする検証の旅は続く\n",
    "\n",
    "さまざまな文献を辿っていくと、メロス（多くの文献ではピュティアス）が友人ダモンを人質として往復したのは、200ｋｍ以上も離れたSelinunteではなくて、また太宰が書いた十里先の村でもなくて、Siracusa市内のようだ。※\n",
    "\n",
    "「走れメロス」の検証の旅は、まだ始まったばかり。\n",
    "過去の文献を調べ、さまざまな計算をしていけば、いつかきっと何か発見することができるかもしれない。\n",
    "\n",
    "※そうであれば、当日の日暮れまでというタイムリミットでも自然かもしれない。"
   ]
  },
  {
   "cell_type": "code",
   "execution_count": null,
   "id": "0c1f9ffb",
   "metadata": {},
   "outputs": [],
   "source": []
  }
 ],
 "metadata": {
  "celltoolbar": "Tags",
  "kernelspec": {
   "display_name": "jupyter-book-py311",
   "language": "python",
   "name": "jupyter-book-py311"
  },
  "language_info": {
   "codemirror_mode": {
    "name": "ipython",
    "version": 3
   },
   "file_extension": ".py",
   "mimetype": "text/x-python",
   "name": "python",
   "nbconvert_exporter": "python",
   "pygments_lexer": "ipython3",
   "version": "3.11.9"
  },
  "toc": {
   "base_numbering": 1,
   "nav_menu": {},
   "number_sections": true,
   "sideBar": true,
   "skip_h1_title": false,
   "title_cell": "Table of Contents",
   "title_sidebar": "Contents",
   "toc_cell": false,
   "toc_position": {},
   "toc_section_display": true,
   "toc_window_display": false
  }
 },
 "nbformat": 4,
 "nbformat_minor": 5
}