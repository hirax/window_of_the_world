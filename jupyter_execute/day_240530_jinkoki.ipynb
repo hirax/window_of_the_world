{
 "cells": [
  {
   "cell_type": "markdown",
   "id": "f996187d",
   "metadata": {},
   "source": [
    "# 塵劫記に書かれたイエズス会「黒船問題」を解いてみる('24.05.30)\n",
    "\n",
    "## 長崎でのイエズス会の買い付け実話にもとづく和算問題\n",
    "\n",
    "江戸時代の初期、1627年(寛永4年)に出版された数学本「[塵劫記](https://rmda.kulib.kyoto-u.ac.jp/libraries/uv-wrapper/uv.php?archive=metadata_manifest&id=RB00028548#?c=0&m=0&s=0&cv=58&xywh=-284%2C-1%2C4025%2C2700)」には、「黒船の買い物のこと」と題して、計算問題とその解法が書かれている。\n",
    "寛永八年(1631 年)以降は，「長崎の買い物 三人相合買い分けてとること」と題されるが、つまりは割り勘計算だ。\n",
    "面白いのは、黒船に乗って長崎で買い物をしていたのは、[ポルトガルから来たイエズス会の宣教師たち](https://repository.kulib.kyoto-u.ac.jp/dspace/bitstream/2433/284819/1/B92-08.pdf)だということだ。\n",
    "その黒船の割り勘計算問題は、おおよそこのような問題である。\n",
    "\n",
    "`````{admonition} 「塵劫記」ー黒船の買い物のことー\n",
    "A,B,Cの3グループが出資して買い付けをする。それぞれの出資金は、銀通貨を単位として64.8貫, 52.3貫, 42.9貫である。買い付けるものは、人参・沈香・巻物・糸で、買い付ける量はそれぞれ、250斤、70巻、280斤、8400斤だ。A,B,Cの3グループがそれぞれ買い付ける人参・沈香・巻物・糸の量を求めよ。\n",
    "`````\n",
    "\n",
    "今日は、江戸時代の初期、長崎でイエズス会が扱っていた貿易計算にもとづく、実話を扱った和算問題を解いてみようと思う。\n",
    "\n",
    "%<img style=\"float:center;transform: rotate(0deg); height:5cm\" src=\"./images/day_240530_jinkoki.png\" />\n",
    "\n",
    "```{figure} ./images/day_240530_jinkoki.png\n",
    "---\n",
    "height: 5cm\n",
    "---\n",
    "「塵劫記」ー黒船の買い物のことー\n",
    "```"
   ]
  },
  {
   "cell_type": "markdown",
   "id": "3606ad1b",
   "metadata": {},
   "source": [
    "## numpy行列計算で黒船の「割り勘計算」をしてみる\n",
    "\n",
    "numpyを使って、黒船の「割り勘計算」をするコードと実行結果が次の例だ。\n",
    "ここでは、単純な行列計算で解いている。\n",
    "現代の道具を使えば、長崎でイエズス会が扱っていた貿易計算は一瞬で解くことができる。"
   ]
  },
  {
   "cell_type": "code",
   "execution_count": 24,
   "id": "44ebf759",
   "metadata": {},
   "outputs": [
    {
     "name": "stdout",
     "output_type": "stream",
     "text": [
      "A,B,Cの3グループのそれぞれの購入量\n",
      "[[ 101.25      28.35     113.4     3402.     ]\n",
      " [  81.71875   22.88125   91.525   2745.75   ]\n",
      " [  67.03125   18.76875   75.075   2252.25   ]]\n",
      "Aグループの人参・沈香・巻物・糸の購入量（斤、巻、斤、斤）\n",
      "[ 101.25   28.35  113.4  3402.  ]\n",
      "Bグループの人参・沈香・巻物・糸の購入量（斤、巻、斤、斤）\n",
      "[  81.71875   22.88125   91.525   2745.75   ]\n",
      "Cグループの人参・沈香・巻物・糸の購入量（斤、巻、斤、斤）\n",
      "[  67.03125   18.76875   75.075   2252.25   ]\n"
     ]
    }
   ],
   "source": [
    "import numpy as np\n",
    "\n",
    "# 人参・沈香・巻物・糸の量\n",
    "kaimono=np.array([[250,70,280,8400]])\n",
    "# A,B,Cの3グループの出資金\n",
    "syusshi=np.array([[64.8,52.3,42.9]])\n",
    "# A,B,Cの3グループの出資比率\n",
    "syusshi_ratio=syusshi/np.sum(syusshi)\n",
    "\n",
    "# 転置が機能するように、上記定義において「2次元リスト」としている\n",
    "result=kaimono * syusshi_ratio.T\n",
    "\n",
    "print('A,B,Cの3グループのそれぞれの購入量')\n",
    "print( result )\n",
    "\n",
    "print('Aグループの人参・沈香・巻物・糸の購入量（斤、巻、斤、斤）')\n",
    "print( result[0] )\n",
    "print('Bグループの人参・沈香・巻物・糸の購入量（斤、巻、斤、斤）')\n",
    "print( result[1] )\n",
    "print('Cグループの人参・沈香・巻物・糸の購入量（斤、巻、斤、斤）')\n",
    "print( result[2] )\n"
   ]
  },
  {
   "cell_type": "markdown",
   "id": "3bfa3697",
   "metadata": {},
   "source": [
    "## 歴史や科学、調べて眺めてみると面白い\n",
    "\n",
    "最近、マラン・メルセンヌのことを調べていた。\n",
    "彼が教育を受けた1600年代前半におけるイエズス会の活動を知るために図書館に行くと、塵劫記に関連問題が書かれていることを知った。\n",
    "歴史や科学は、調べて・眺めていくと、いろいろなことが繋がってくる。\n",
    "だから、本当にとても面白い。\n",
    "\n",
    "明日は、一体どんなものが繋がってくるのだろうか。"
   ]
  },
  {
   "cell_type": "code",
   "execution_count": null,
   "id": "17b35dee",
   "metadata": {},
   "outputs": [],
   "source": []
  }
 ],
 "metadata": {
  "kernelspec": {
   "display_name": "jupyter-book-py311",
   "language": "python",
   "name": "jupyter-book-py311"
  },
  "language_info": {
   "codemirror_mode": {
    "name": "ipython",
    "version": 3
   },
   "file_extension": ".py",
   "mimetype": "text/x-python",
   "name": "python",
   "nbconvert_exporter": "python",
   "pygments_lexer": "ipython3",
   "version": "3.11.9"
  },
  "toc": {
   "base_numbering": 1,
   "nav_menu": {},
   "number_sections": true,
   "sideBar": true,
   "skip_h1_title": false,
   "title_cell": "Table of Contents",
   "title_sidebar": "Contents",
   "toc_cell": false,
   "toc_position": {},
   "toc_section_display": true,
   "toc_window_display": false
  }
 },
 "nbformat": 4,
 "nbformat_minor": 5
}