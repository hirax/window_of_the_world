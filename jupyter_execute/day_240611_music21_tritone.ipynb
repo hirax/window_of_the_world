{
 "cells": [
  {
   "cell_type": "markdown",
   "id": "cd456ddc",
   "metadata": {},
   "source": [
    "# 「悪魔の全三音」を聴いてみる('24.06.11)\n",
    "\n",
    "## 英語音名のBがドイツ語音名でHになった理由\n",
    "\n",
    "[楽譜暗号を書いてみる('24.06.04)](https://hirax.github.io/wow/html/day_240604_music21_music_cipher.html)の後半で、ヨハネス・ブラームスが書いたAGAHEという旋律が、かつて恋人だったアガーテ・フォン・ジーボルト（Agathe von Siebold）の名前Agahteだという逸話を書いた。AGAHEというのは、ドイツ語での音名で、A,B,C,D,E,F,Gという英語音名だとAGABEとなる。ブラームスが、恋人シーボルトの名前を旋律で残したというのは、ドイツ語での音名前提での逸話である。\n",
    "\n",
    "%<img style=\"float:center;transform: rotate(0deg); height:8cm\" src=\"./images/day_240611_music21_tone_Agatha_Brahams.jpg\" />\n",
    "```{figure} ./images/day_240611_music21_tone_Agatha_Brahams.jpg\n",
    "---\n",
    "height: 8cm\n",
    "---\n",
    "アガーテ・フォン・ジーボルトとヨハネス・ブラームス\n",
    "```\n",
    "\n",
    "これは、音の響きから[不吉で悪魔的な全三音を避けるために、B音の音を変え、本来のB音を（未使用の）H音と称したから](https://www.suganami.com/info/44155)と言われている。\n",
    "全三音離れたF音とB音が同時に鳴ると、とても不安的な響きが生まれる。\n",
    "その音は悪魔の全三音と呼ばれ、その響きを避けるための試行錯誤の結果、英語音名のB音がドイツ語音名でH音になったのである。"
   ]
  },
  {
   "cell_type": "markdown",
   "id": "0fbed4b7",
   "metadata": {},
   "source": [
    "## 悪魔の全三音F-H(B)を聴いてみる\n",
    "\n",
    "全三音離れたF音とB音が重なり合った時の響きが、一体どれだけ危なく悪い音が生まれるのだろう？\n",
    "その疑問を解決するために、その２つの音を重ねた悪魔の和音（全三音和音）を作って、聴いてみようと思う。\n",
    "Pythonで数行のコードを書けば、全三音離れた２つの音が生み出す悪魔の響きを表す楽譜や音を作り出すことができる。"
   ]
  },
  {
   "cell_type": "code",
   "execution_count": 8,
   "id": "a821fef9",
   "metadata": {},
   "outputs": [
    {
     "name": "stderr",
     "output_type": "stream",
     "text": [
      "/opt/anaconda3/envs/jupyter-book-py311/lib/python3.11/site-packages/music21/musicxml/m21ToXml.py:531: MusicXMLWarning: <music21.stream.Score 0x107b61a90> is not well-formed; see isWellFormedNotation()\n",
      "  warnings.warn(f'{sc} is not well-formed; see isWellFormedNotation()',\n"
     ]
    },
    {
     "data": {
      "image/png": "[encoded data removed]",
      "text/plain": [
       "<IPython.core.display.Image object>"
      ]
     },
     "metadata": {
      "image/png": {
       "height": 49,
       "width": 201
      }
     },
     "output_type": "display_data"
    }
   ],
   "source": [
    "import music21 as m21\n",
    "import pathlib\n",
    "\n",
    "# MusicScore 4ではOS Errorが起きるので 3を使う\n",
    "m21.environment.set('musescoreDirectPNGPath', \n",
    "    pathlib.PosixPath('/Applications/MuseScore 3.app/Contents/MacOS/mscore'))\n",
    "#us = environment.Environment()\n",
    "\n",
    "# 和音を作成\n",
    "notes = []\n",
    "notes.append(m21.chord.Chord([\"F4\",\"B4\"],quarterLength=4.0))\n",
    "# 楽譜を作成\n",
    "score = m21.stream.Score()\n",
    "score.append(notes)\n",
    "score.show()"
   ]
  },
  {
   "cell_type": "code",
   "execution_count": 9,
   "id": "e582452a",
   "metadata": {},
   "outputs": [
    {
     "data": {
      "text/html": [
       "\n",
       "        <div id=\"midiPlayerDiv109\"></div>\n",
       "        <link rel=\"stylesheet\" href=\"https://cuthbertLab.github.io/music21j/css/m21.css\">\n",
       "        \n",
       "        <script\n",
       "        src=\"https://cdnjs.cloudflare.com/ajax/libs/require.js/2.3.6/require.min.js\"\n",
       "        ></script>\n",
       "    \n",
       "        <script>\n",
       "        function midiPlayerDiv109_play() {\n",
       "            const rq = require.config({\n",
       "                paths: {\n",
       "                    'music21': 'https://cuthbertLab.github.io/music21j/releases/music21.debug',\n",
       "                }\n",
       "            });\n",
       "            rq(['music21'], function(music21) {\n",
       "                mp = new music21.miditools.MidiPlayer();\n",
       "                mp.addPlayer(\"#midiPlayerDiv109\");\n",
       "                mp.base64Load(\"data:audio/midi;base64,TVRoZAAAAAYAAQACJ2BNVHJrAAAAFAD/UQMHoSAA/1gEBAIYCM5g/y8ATVRyawAAACAA/wMAAOAAQM5gkEFaAJBHWoK7AIBBAACARwDOYP8vAA==\");\n",
       "            });\n",
       "        }\n",
       "        if (typeof require === 'undefined') {\n",
       "            setTimeout(midiPlayerDiv109_play, 2000);\n",
       "        } else {\n",
       "            midiPlayerDiv109_play();\n",
       "        }\n",
       "        </script>"
      ],
      "text/plain": [
       "<IPython.core.display.HTML object>"
      ]
     },
     "metadata": {},
     "output_type": "display_data"
    }
   ],
   "source": [
    "score.show('midi')"
   ]
  },
  {
   "cell_type": "markdown",
   "id": "91962d0b",
   "metadata": {},
   "source": [
    "## 音楽・楽曲の科学や必然の歴史を聴いてみる\n",
    "\n",
    "ピタゴラスやメルセンヌの遙か昔から音律を科学とともに作り出したしたり、そうした音律に沿って・あるいは外れて楽器や歌で旋律を奏でたり、そんな時代ごとの音楽をを実際に自分の耳で聴いてみたり、味わってみたいと思う。……そういうわけで、今日は、ハネス・ブラームスが書き残したとされるAGAHE旋律が生まれる遠因となった「悪魔の全三音」を、自分の耳で聴いてみた。\n",
    "\n",
    "そんなインタラクティブな図書館に通っていると、メロスが参加していたピタゴラス教団や、メルセンヌやデカルト、あるいは算法少女たちもいつか登場する気がします。"
   ]
  },
  {
   "cell_type": "code",
   "execution_count": null,
   "id": "f839a838",
   "metadata": {},
   "outputs": [],
   "source": []
  }
 ],
 "metadata": {
  "kernelspec": {
   "display_name": "jupyter-book-py311",
   "language": "python",
   "name": "jupyter-book-py311"
  },
  "language_info": {
   "codemirror_mode": {
    "name": "ipython",
    "version": 3
   },
   "file_extension": ".py",
   "mimetype": "text/x-python",
   "name": "python",
   "nbconvert_exporter": "python",
   "pygments_lexer": "ipython3",
   "version": "3.11.9"
  },
  "toc": {
   "base_numbering": 1,
   "nav_menu": {},
   "number_sections": true,
   "sideBar": true,
   "skip_h1_title": false,
   "title_cell": "Table of Contents",
   "title_sidebar": "Contents",
   "toc_cell": false,
   "toc_position": {},
   "toc_section_display": true,
   "toc_window_display": false
  }
 },
 "nbformat": 4,
 "nbformat_minor": 5
}