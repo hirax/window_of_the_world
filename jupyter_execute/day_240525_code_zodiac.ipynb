{
 "cells": [
  {
   "cell_type": "markdown",
   "id": "8d50743e",
   "metadata": {},
   "source": [
    "# ゾディアック事件の暗号Z340でメッセージを作る('24.05.25)\n"
   ]
  },
  {
   "cell_type": "markdown",
   "id": "578cbaa6",
   "metadata": {},
   "source": [
    "1968年から1974年にかけて、米国のカリフォルニア州サンフランシスコ市内で、連続殺人事件が起きた。\n",
    "犯人はゾディアック(Zodiac)と名乗り、警察やマスコミへ暗号で書かれたメッセージを送りつけ、この事件はゾディアック事件と呼ばれた。\n",
    "\n",
    "1969年11月8日、ゾディアックは葉書に暗号メッセージを書いて、送りつけてきた。\n",
    "この暗号は、340文字の記号で書かれていたことから「Z340」と呼ばれている。\n",
    "下の画像がZ340暗号だ。\n",
    "\n",
    "%<img style=\"float:center;transform: rotate(0deg); height:10cm\" src=\"./images/day_240525_code_z340.jpg\" />\n",
    "\n",
    "```{figure} ./images/day_240525_code_zodiac_z340.jpg\n",
    "---\n",
    "height: 10cm\n",
    "---\n",
    "ゾディアック暗号Z340\n",
    "```"
   ]
  },
  {
   "cell_type": "markdown",
   "id": "b91b1461",
   "metadata": {},
   "source": [
    "半世紀以上もの間、Z340を解読しようとする試みはすべて失敗に終わった。\n",
    "しかし、[Wolfram Mathematicaを道具にして](https://blog.wolfram.com/2021/03/24/the-solution-of-the-zodiac-killers-340-character-cipher/)、2020年12月5日、Z340はついに解読された。\n",
    "\n",
    "[Zodiac-Z340](https://github.com/H0j3n/Zodiac-Z340/tree/main)\n",
    "\n",
    "`````{admonition} 2020年に解読された暗号Z340\n",
    "I hope you are having lots of fan in trying to catch me that wasnt me on the tv show which bringo up a point about me I am not afraid of the gas chamber becaase it will send me to paradlce all the sooher because e now have enough slaves to worv for me where every one else has nothing when they reach paradice so they are afraid of death I am not afraid because i vnow that my new life is life will be an easy one in paradice death\n",
    "\n",
    "テレビ番組で報道されている私でない私を捕まえようとしてるけど、それを楽しんでくれているといいね。\n",
    "私はガス室を恐れていない。なぜなら、ガス室は私を天国に送ってくれるから。他のみんなが何も持っていない場所でも、私のために働く奴隷がたくさんいる。みんな天国に着くと、死を恐れる。私は恐れない。私の新しい人生はパラダイスで楽なものになると知っているから。人生は死だ。\n",
    "`````"
   ]
  },
  {
   "cell_type": "markdown",
   "id": "3eac4c29",
   "metadata": {},
   "source": [
    "今日は、Z340暗号のルールにもとづき、平文（アルファベットのみで、空白やピリオドあるいはカンマなどは含まない）をエンコードする[Zodiac-Z340](https://github.com/H0j3n/Zodiac-Z340/tree/main)を使って、Z340暗号でメッセージ画像を作ってみる。\n",
    "\n",
    "Zodiac-Z340レポジトリには、コード例と記号フォントが含まれていて、平文から暗号分や暗号文字画像を生成することができる。\n",
    "下記がコード例と実行例だ。\n",
    "ちなみに、平文の内容は「走れメロス」のストーリー解説である。"
   ]
  },
  {
   "cell_type": "code",
   "execution_count": 1,
   "id": "0c75121c",
   "metadata": {
    "tags": [
     "hide-input"
    ]
   },
   "outputs": [],
   "source": [
    "# https://github.com/H0j3n/Zodiac-Z340/tree/main\n",
    "\n",
    "import sys,os,random,re\n",
    "import numpy as np\n",
    "from PIL import ImageFont, ImageDraw, Image\n",
    "import cv2\n",
    "import time\n",
    "\n",
    "#Zodiac Character (refer : Dcode)\n",
    "zodiac = {\n",
    "\t\"A\" : [\"char(79)\",\"char(122)\",\"char(108)\",\"char(42)\"],\n",
    "\t\"B\" : [\"char(102)\",\"char(95)\"],\n",
    "\t\"C\" : [\"char(112)\"],\n",
    "\t\"D\" : [\"char(65)\",\"char(54)\",\"char(83)\"],\n",
    "\t\"E\" : [\"char(66)\",\"char(98)\",\"char(78)\",\"char(124)\",\"char(52)\",\"char(99)\"],\n",
    "\t\"F\" : [\"char(70)\"],\n",
    "\t\"G\" : [\"char(76)\"],\n",
    "\t\"H\" : [\"char(43)\"],\n",
    "\t\"I\" : [\"char(72)\",\"char(80)\",\"char(60)\",\"char(121)\",\"char(107)\"],\n",
    "\t\"J\" : [\"char(33)\"],\n",
    "\t\"K\" : [\"char(92)\"],\n",
    "\t\"L\" : [\"char(116)\",\"char(100)\",\"char(55)\"],\n",
    "\t\"M\" : [\"char(50)\"],\n",
    "\t\"N\" : [\"char(46)\",\"char(62)\",\"char(68)\",\"char(89)\",\"char(57)\"],\n",
    "\t\"O\" : [\"char(82)\",\"char(94)\",\"char(77)\"],\n",
    "\t\"P\" : [\"char(106)\",\"char(56)\"],\n",
    "\t\"Q\" : [\"char(61)\"],\n",
    "\t\"R\" : [\"char(69)\",\"char(88)\",\"char(84)\",\"char(49)\",\"char(90)\"],\n",
    "\t\"S\" : [\"char(38)\",\"char(85)\",\"char(45)\",\"char(74)\"],\n",
    "\t\"T\" : [\"char(37)\",\"char(71)\",\"char(35)\",\"char(40)\",\"char(58)\"],\n",
    "\t\"U\" : [\"char(113)\",\"char(64)\",\"char(47)\"],\n",
    "\t\"V\" : [\"char(53)\"],\n",
    "\t\"W\" : [\"char(87)\",\"char(41)\"],\n",
    "\t\"X\" : [\"char(101)\"],\n",
    "\t\"Y\" : [\"char(67)\",\"char(51)\"],\n",
    "\t\"Z\" : [\"char(114)\"]\n",
    "}\n",
    "\n",
    "#Function Diagnol\n",
    "def diagnol(x):\n",
    "\tcol_1 = x[0] + x[9] + x[18] + x[27] + x[36] + x[45] + x[54] + x[63] + x[72] + x[81] + x[90] + x[99] + x[108] + x[117] + x[126] + x[135] + x[144]\n",
    "\tcol_2 = x[136] + x[145] + x[1] + x[10] + x[19] + x[28] + x[37] + x[46] + x[55] + x[64] + x[73] + x[82] + x[91] + x[100] + x[109] + x[118] + x[127]\n",
    "\tcol_3 = x[119] + x[128] + x[137] + x[146] + x[2] + x[11] + x[20] + x[29] + x[38] + x[47] + x[56] + x[65] + x[74] + x[83] + x[92] + x[101] + x[110]\n",
    "\tcol_4 = x[102] + x[111] + x[120] + x[129] + x[138] + x[147] + x[3] + x[12] + x[21] + x[30] + x[39] + x[48] + x[57] + x[66] + x[75] + x[84] + x[93]\n",
    "\tcol_5 = x[85] + x[94] + x[103] + x[112] + x[121] + x[130] + x[139] + x[148] + x[4] + x[13] + x[22] + x[31] + x[40] + x[49] + x[58] + x[67] + x[76]\n",
    "\tcol_6 = x[68] + x[77] + x[86] + x[95] + x[104] + x[113] + x[122] + x[131] + x[140] + x[149] + x[5] + x[14] + x[23] + x[32] + x[41] + x[50] + x[59]\n",
    "\tcol_7 = x[51] + x[60] + x[69] + x[78] + x[87] + x[96] + x[105] + x[114] + x[123] + x[132] + x[141] + x[150] + x[6] + x[15] + x[24] + x[33] + x[42]\n",
    "\tcol_8 = x[34] + x[43] + x[52] + x[61] + x[70] + x[79] + x[88] + x[97] + x[106] + x[115] + x[124] + x[133] + x[142] + x[151] + x[7] + x[16] + x[25]\n",
    "\tcol_9 = x[17] + x[26] + x[35] + x[44] + x[53] + x[62] + x[71] + x[80] + x[89] + x[98] + x[107] + x[116] + x[125] + x[134] + x[143] + x[152] + x[8]\n",
    "\treturn col_1+\";\"+col_2+\";\"+col_3+\";\"+col_4+\";\"+col_5+\";\"+col_6+\";\"+col_7+\";\"+col_8+\";\"+col_9\n",
    "\n",
    "#Function Dcode Symbol\n",
    "def zodiac_cipher(x):\n",
    "\tprint(\"\\nPlease Enter this in Dcode!\\n\")\n",
    "\tstrs =\"\"\n",
    "\tfor i in x.split(\";\"):\n",
    "        \tfor j in i:\n",
    "                \tif j in zodiac.keys():\n",
    "                        \tstrs += random.choice(zodiac[j])\n",
    "                \telse:\n",
    "                        \tstrs += j\n",
    "        \tstrs += \"\\n\"\n",
    "\treturn strs\n",
    "\n",
    "#Function Font Changes\n",
    "def font_change(x):\n",
    "\tstrs =\"\"\n",
    "\tfor i in x.split(\"\\n\")[:-1]:\n",
    "\t\ttemp = i.replace(\")\",\";\").replace(\"char(\",\";\").replace(\";;\",\";\")\n",
    "\t\tfor j in temp.split(\";\"):\n",
    "\t\t\ttry:\t\n",
    "\t\t\t\tif int(j) in [1,2,3,4,5,6,7,8,9,0]:\n",
    "\t\t\t\t\tstrs += j\n",
    "\t\t\t\telse:\n",
    "\t\t\t\t\tstrs += chr(int(j))\n",
    "\t\t\texcept:\n",
    "\t\t\t\tstrs += j\n",
    "\t\tstrs += \"\\n\"\n",
    "\treturn strs"
   ]
  },
  {
   "cell_type": "code",
   "execution_count": 2,
   "id": "b5d4ad7d",
   "metadata": {
    "tags": [
     "hide-input"
    ]
   },
   "outputs": [
    {
     "ename": "NameError",
     "evalue": "name 'fullfontcode' is not defined",
     "output_type": "error",
     "traceback": [
      "\u001b[0;31m---------------------------------------------------------------------------\u001b[0m",
      "\u001b[0;31mNameError\u001b[0m                                 Traceback (most recent call last)",
      "Cell \u001b[0;32mIn[2], line 15\u001b[0m\n\u001b[1;32m     13\u001b[0m draw \u001b[38;5;241m=\u001b[39m ImageDraw\u001b[38;5;241m.\u001b[39mDraw(img_pil)\n\u001b[1;32m     14\u001b[0m h\u001b[38;5;241m=\u001b[39m\u001b[38;5;241m100\u001b[39m \u001b[38;5;66;03m# 文字を描き始める最初の高さ\u001b[39;00m\n\u001b[0;32m---> 15\u001b[0m \u001b[38;5;28;01mfor\u001b[39;00m i \u001b[38;5;129;01min\u001b[39;00m fullfontcode\u001b[38;5;241m.\u001b[39msplit(\u001b[38;5;124m\"\u001b[39m\u001b[38;5;130;01m\\n\u001b[39;00m\u001b[38;5;124m\"\u001b[39m):\n\u001b[1;32m     16\u001b[0m \tdraw\u001b[38;5;241m.\u001b[39mtext((\u001b[38;5;241m50\u001b[39m, h), i\u001b[38;5;241m.\u001b[39mstrip(), font \u001b[38;5;241m=\u001b[39m font, fill \u001b[38;5;241m=\u001b[39m (b, g, r, a))\n\u001b[1;32m     17\u001b[0m \th \u001b[38;5;241m+\u001b[39m\u001b[38;5;241m=\u001b[39m \u001b[38;5;241m28\u001b[39m\n",
      "\u001b[0;31mNameError\u001b[0m: name 'fullfontcode' is not defined"
     ]
    }
   ],
   "source": [
    "my_text=\"Melos is a naive young shepherd with a sense of justice. He lives in a land ruled by Dionysius, a tyrant king who has killed many people, including his family members, due to his solitude and distrust of people. When Melos hears about the King's deeds, he is outraged, and he decides to assassinate the King. He sneaks into the castle with a knife but is caught and arrested. Although Melos defiantly owns up to his plan to kill the King, he pleads with the cynical tyrant to postpone his execution for three days so that he can return home to arrange his younger sister's marriage. As collateral for his pledge to return, Melos offers his friend Selinuntius as a hostage, who would be executed in his stead should Melos not return in time. The King agrees to Melos' conditions but threatens to kill him should he return moments too late. Melos insists that saving his own life is not his intention. Informed of the situation, Selinuntius readily agrees to the role that Melos assigned him without asking.\"\n",
    "inputs=my_text.replace(' ', '').replace('\\'', '').replace(',', '').strip().upper()[:306]\n",
    "\n",
    "import matplotlib.pyplot as plt\n",
    "\n",
    "# 暗号画像を生成する\n",
    "img = np.ones((1050-17*22,420,3),np.uint8)*255\n",
    "b,g,r,a = 0,0,0,0\n",
    "# フォントを読み込む\n",
    "fontpath = \"/Library/Fonts/z340-z408.ttf\"\n",
    "font = ImageFont.truetype(fontpath, 32)\n",
    "img_pil = Image.fromarray(img)\n",
    "draw = ImageDraw.Draw(img_pil)\n",
    "h=100 # 文字を描き始める最初の高さ\n",
    "for i in fullfontcode.split(\"\\n\"):\n",
    "\tdraw.text((50, h), i.strip(), font = font, fill = (b, g, r, a))\n",
    "\th += 28\n",
    "img = np.array(img_pil)\n",
    "\n",
    "fig=plt.figure(figsize=[12,12])\n",
    "plt.imshow(img)\n",
    "plt.axis('off')\n",
    "plt.show()\n",
    "#cv2.imwrite(\"zodiac.png\", img)"
   ]
  },
  {
   "cell_type": "markdown",
   "id": "9dbdc18c",
   "metadata": {},
   "source": [
    "## 解読（デコード）するコードも書いてみよう\n",
    "\n",
    "現時点の[Zodiac-Z340]には、エンコード用のコードしか含まれていない。\n",
    "そのため、今回は「平文⇒暗号画像を作り出す」という作業をしてみた。\n",
    "解読（デコード）用の関数は、近々書いてみようと思う。\n"
   ]
  },
  {
   "cell_type": "markdown",
   "id": "6d47bb63",
   "metadata": {},
   "source": [
    "%<img style=\"float:center;transform: rotate(0deg); height:14cm\" src=\"./images/day_240525_code_zodiac_wanted_poster.png\" />\n",
    "\n",
    "```{figure} ./images/day_240525_code_zodiac_wanted_poster.png\n",
    "---\n",
    "height: 14cm\n",
    "---\n",
    "ゾディアックの似顔絵\n",
    "```"
   ]
  },
  {
   "cell_type": "code",
   "execution_count": null,
   "id": "9e878de4",
   "metadata": {},
   "outputs": [],
   "source": []
  }
 ],
 "metadata": {
  "celltoolbar": "Tags",
  "kernelspec": {
   "display_name": "jupyter-book-py311",
   "language": "python",
   "name": "jupyter-book-py311"
  },
  "language_info": {
   "codemirror_mode": {
    "name": "ipython",
    "version": 3
   },
   "file_extension": ".py",
   "mimetype": "text/x-python",
   "name": "python",
   "nbconvert_exporter": "python",
   "pygments_lexer": "ipython3",
   "version": "3.11.9"
  },
  "toc": {
   "base_numbering": 1,
   "nav_menu": {},
   "number_sections": true,
   "sideBar": true,
   "skip_h1_title": false,
   "title_cell": "Table of Contents",
   "title_sidebar": "Contents",
   "toc_cell": false,
   "toc_position": {},
   "toc_section_display": true,
   "toc_window_display": false
  }
 },
 "nbformat": 4,
 "nbformat_minor": 5
}