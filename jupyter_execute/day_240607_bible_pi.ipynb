{
 "cells": [
  {
   "cell_type": "markdown",
   "id": "2dd1a614",
   "metadata": {},
   "source": [
    "# 聖書(列王記, 歴代誌)で「円周率」を考える('24.06.07)\n",
    "\n",
    "## 100世代を超えて議論されてきた聖書の円周率問題\n",
    "\n",
    "聖書には、円周率が暗に登場していて、これまで2千年くらいは議論されてきた。\n",
    "親と子の世代差を「1世代」として、それがおよそ20年とすれば、2千年は100世代に相当する。\n",
    "つまり、親と子が入れ替わる周期を基準にして、100回くらいも議論されてきたのが、聖書に登場する円周率問題だ。\n",
    "\n",
    "聖書の[列王記第一7章](https://www.wordproject.org/bibles/jp/11/7.htm#0)、あるいは、[歴代誌第二4章](https://www.wordproject.org/bibles/jp/14/4.htm#0)には、こんな形で円周率が登場する。\n",
    "\n",
    "`````{admonition} [列王記第一7章](https://www.wordproject.org/bibles/jp/11/7.htm#0)\n",
    "また海を鋳て造った。縁から縁まで十キュビトであって、周囲は円形をなし、高さ五キュビトで、その周囲は綱をもって測ると三十キュビトであった。その縁の下には三十キュビトの周囲をめぐるひさごがあって、海の周囲を囲んでいた。そのひさごは二並びで、海を鋳る時に鋳たものである。その海は十二の牛の上に置かれ、その三つは北に向かい、三つは西に向かい、三つは南に向かい、三つは東に向かっていた。海はその上に置かれ、牛のうしろは皆内に向かっていた。海の厚さは手の幅で、その縁は杯の縁のように、ゆりの花に似せて造られた。海には水が二千バテはいった。\n",
    "\n",
    "列王記第一7章\n",
    "`````\n",
    "\n",
    "`````{admonition} [歴代誌第二4章](https://www.wordproject.org/bibles/jp/14/4.htm#0)\n",
    "ソロモンはまた青銅の祭壇を造った。その長さ二十キュビト、幅二十キュビト、高さ十キュビトである。彼はまた海を鋳て造った。縁から縁まで十キュビトであって、周囲は円形をなし、高さ五キュビトで、その周囲は綱をもって測ると三十キュビトあった。海の下には三十キュビトの周囲をめぐるひさごの形があって、海の周囲を囲んでいた。そのひさごは二並びで、海を鋳る時に鋳たものである。その海は十二の牛の上に置かれ、その三つは北に向かい、三つは西に向かい、三つは南に向かい、三つは東に向かっていた。海はその上に置かれ、牛のうしろはみな内に向かっていた。海の厚さは手の幅で、その縁は杯の縁のように、ゆりの花に似せて造られた。海には水を三千バテ入れることができた。\n",
    "\n",
    "歴代誌第二4章\n",
    "`````\n",
    "\n",
    "[列王記第一7章](https://www.wordproject.org/bibles/jp/11/7.htm#0)あるいは[歴代誌第二4章](https://www.wordproject.org/bibles/jp/14/4.htm#0)に登場するのは、単位を無視すれば直径が10で円周が30、そして高さが5の「海」と呼ばれる鋳造された[円筒形の容器](https://en.wikipedia.org/wiki/Molten_Sea)だ。\n",
    "\n",
    "%<img style=\"float:center;transform: rotate(0deg); height:10cm\" src=\"./images/day_240607_bible_pi_Brazen_Sea_of_soloman_From_Jewish_Encyclopedia.jpg\" />\n",
    "```{figure} ./images/day_240607_bible_pi_Brazen_Sea_of_soloman_From_Jewish_Encyclopedia.jpg\n",
    "---\n",
    "height: 10cm\n",
    "鋳物の海\n",
    "```"
   ]
  },
  {
   "cell_type": "markdown",
   "id": "103864fe",
   "metadata": {},
   "source": [
    "## 聖書に暗に登場する「円周率は約3」という描写\n",
    "\n",
    "直径が$r$なら円周は$\\pi r$だ。\n",
    "つまり、$\\pi=円周/直径$だ。\n",
    "「直径が10で円周が30」ならば、下記のように単純に割り算をしてみれば、\n",
    "$\\pi=3$ということになる。"
   ]
  },
  {
   "cell_type": "code",
   "execution_count": 11,
   "id": "37c11dc2",
   "metadata": {},
   "outputs": [
    {
     "name": "stdout",
     "output_type": "stream",
     "text": [
      "Pi= 3\n"
     ]
    }
   ],
   "source": [
    "print('Pi=',30//10) # /を使うと浮動小数点演算が行われる https://qiita.com/toKoinX/items/032316ca77e28b80c142"
   ]
  },
  {
   "cell_type": "markdown",
   "id": "8e42e99e",
   "metadata": {},
   "source": [
    "もちろん、円周率は3ではない。\n",
    "聖書の列王記や歴代誌が作成されたのは、紀元前数百年前。\n",
    "その千数百年以上前からたとえば、古代バビロニアの時代から、円周率が3.1…という数字であることはわかっていた。\n",
    "試しに[円を16角形に近似してみれば](https://qiita.com/POPPIN_FRIENDS/items/7228644dcd20d59203a1)、円周率が3.0614674589207183…より大きいことは、容易に確認できる。"
   ]
  },
  {
   "cell_type": "code",
   "execution_count": 6,
   "id": "6125de58",
   "metadata": {},
   "outputs": [
    {
     "name": "stdout",
     "output_type": "stream",
     "text": [
      "3.0614674589207183\n"
     ]
    }
   ],
   "source": [
    "import numpy as np\n",
    "\n",
    "def pi_from_polygon_area(n):\n",
    "    rad=np.radians(360/n)\n",
    "    area=n*np.sin(rad)/2.0 # 正N角形の面積\n",
    "    return area\n",
    "\n",
    "print(pi_from_polygon_area(16))"
   ]
  },
  {
   "cell_type": "markdown",
   "id": "d16d0f7e",
   "metadata": {},
   "source": [
    "## ヘブライ語の原典を踏まえると3.1415…が書かれてる？\n",
    "\n",
    "精度を要する数値計算の解説書ではないのだから、聖書に「円周率は大雑把には3」と暗に読める文章が書いてあっても別に、全く問題は無いようにも思う。\n",
    "けれど、世界を記述するテキストとしては大きな問題らしく、さまざまな議論が繰り広げられてきたようだ。\n",
    "たとえば、Isaac ElishakoffとElliot Pinesによる論文、[\"Do Scripture and Mathematics Agree on the Number π?\"](https://en.wikipedia.org/wiki/Molten_Sea#cite_note-13)では、次のような考察がされている。\n",
    "\n",
    "%<img style=\"float:center;transform: rotate(0deg); height:10cm\" src=\"./images/day_240607_bible_pi_bible.png\" />\n",
    "```{figure} ./images/day_240607_bible_pi_bible.png\n",
    "---\n",
    "height: 10cm\n",
    "Do Scripture and Mathematics Agree on the Number π?\n",
    "```\n",
    "\n",
    "`````{admonition} [\"Do Scripture and Mathematics Agree on the Number π?\"](https://en.wikipedia.org/wiki/Molten_Sea#cite_note-13)\n",
    "ヘブライ語聖書の列王記第一7章と、歴代誌第二4章では、円周長が30という[説明文で使われる言葉が違って](https://en.wikipedia.org/wiki/Molten_Sea#)いて、列王記で使われているのは קוה で、歴代誌で使われているのは קו だ。\n",
    "このふたつの語句は、書き文字としては異なるが、言葉にすると同じ発音になる。\n",
    "そして、ヘブライ語では文字が数字を表してもいたので、このふたつの文字を数字にすると、それぞれ、111(=100+6+5)と106(=100+6)になる。\n",
    "さらに、古今東西、さまざま行われてきた聖書解釈を踏まえて、聖書に書かれた「約3」の円周率に111/106を掛けるべきなのだ。\n",
    "`````\n",
    "\n",
    "それでは、聖書から導かれる円周率約3に、111(=100+6+5)と106(=100+6)の比をどうなるだろう？\n",
    "……計算してみると、こんな結果が得られる。"
   ]
  },
  {
   "cell_type": "code",
   "execution_count": 8,
   "id": "bc9ec1ff",
   "metadata": {},
   "outputs": [
    {
     "data": {
      "text/plain": [
       "3.141509433962264"
      ]
     },
     "execution_count": 8,
     "metadata": {},
     "output_type": "execute_result"
    }
   ],
   "source": [
    "3*(100+6+5)/(100+6)"
   ]
  },
  {
   "cell_type": "markdown",
   "id": "096926e6",
   "metadata": {},
   "source": [
    "聖書には「口から発する言葉にすれば円周率は約3となるが、書き残された言葉としては、奥深い真実の世界も描かれていた」というのが、論文を書いた彼らが導き出した答えだ。\n",
    "ちなみに、彼らは、111(=100+6+5)と106(=106+6)による$\\pi$表現は、情報理論を用いた符号化効率の計算結果から、偶然現れたものではなくて神の霊感による必然だと主張する。\n",
    "\n",
    "……何を信じるか信じないかは、あなた次第。"
   ]
  },
  {
   "cell_type": "code",
   "execution_count": null,
   "id": "57f045e8",
   "metadata": {},
   "outputs": [],
   "source": []
  }
 ],
 "metadata": {
  "kernelspec": {
   "display_name": "jupyter-book-py311",
   "language": "python",
   "name": "jupyter-book-py311"
  },
  "language_info": {
   "codemirror_mode": {
    "name": "ipython",
    "version": 3
   },
   "file_extension": ".py",
   "mimetype": "text/x-python",
   "name": "python",
   "nbconvert_exporter": "python",
   "pygments_lexer": "ipython3",
   "version": "3.11.9"
  },
  "toc": {
   "base_numbering": 1,
   "nav_menu": {},
   "number_sections": true,
   "sideBar": true,
   "skip_h1_title": false,
   "title_cell": "Table of Contents",
   "title_sidebar": "Contents",
   "toc_cell": false,
   "toc_position": {},
   "toc_section_display": true,
   "toc_window_display": false
  }
 },
 "nbformat": 4,
 "nbformat_minor": 5
}