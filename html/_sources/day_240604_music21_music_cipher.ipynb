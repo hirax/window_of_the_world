{
 "cells": [
  {
   "cell_type": "markdown",
   "id": "583e3885",
   "metadata": {},
   "source": [
    "# 楽譜暗号を書いてみる('24.06.04)\n",
    "\n",
    "## 暗号が隠された楽譜\n",
    "\n",
    "楽譜の中に暗号を隠すということは、昔からされてきた。\n",
    "たとえば、\"The Sermon Booklets of Friar Nicholas Philip\"と呼ばれる1432年の写本には、フィリップの暗号は、音符の音程と音が持続する長さで文字を暗号化する楽譜が描かれている。\n",
    "\n",
    "%<img style=\"float:center;transform: rotate(0deg); height:8cm\" src=\"./images/day_240604_Philip_Music_Cipher.jpg\" />\n",
    "```{figure} ./images/day_240604_Philip_Music_Cipher.jpg\n",
    "---\n",
    "height: 8cm\n",
    "---\n",
    "\"The Sermon Booklets of Friar Nicholas Philip\" (1436)の楽譜暗号\n",
    "```\n",
    "\n",
    "楽譜形式の暗号は少なからず存在していて、「交響曲の父」ヨーゼフ・ハイドンの弟ヨハン・ミヒャエル・ハイドンも、楽譜に埋め込む暗号を考案したと言われている。それが下の楽譜だ。\n",
    "\n",
    "%<img style=\"float:center;transform: rotate(0deg); height:8cm\" src=\"./images/day_240604_Michael_Haydn_Music_Cipher.jpg\" />\n",
    "```{figure} ./images/day_240604_Michael_Haydn_Music_Cipher.jpg\n",
    "---\n",
    "height: 8cm\n",
    "---\n",
    "ヨハン・ミヒャエル・ハイドンも、楽譜に埋め込む暗号(1808)\n",
    "```\n",
    "\n",
    "あるいは、2015年には\"ナチスの財宝（95億円）のありかが書かれていると噂されてきた「謎の楽譜に隠された暗号」を解析したという人が現れたというニュースも評判になった。\n",
    "ヒトラーの秘書の書類中に、不可解な注釈や記号が書かれた、ゴットフリード・フェダーラインという人物が作曲した『即興行進曲』の楽譜が含まれていて、財宝のありかが暗号として楽譜に書かれているのではないか？と噂されてきたものだ。（参考 [消えたナチスの財宝（95億円）の在処が判明？ヒトラーの秘書が残した謎の暗号とは？](https://tocana.jp/2015/06/post_6622_entry.html),[THE MARSCH-IMPROMPTU MUSIC SCORE](https://tearsofthewolf.com/marsch-impromptu)）\n",
    "\n",
    "## 音の高さと長さでテキストを隠す暗号を作る\n",
    "\n",
    "1432年のFriar Nicholas Philip\"写本や、ヨハン・ミヒャエル・ハイドンが作ったとされる暗号と同じように、\n",
    "音の高さと長さでテキストを隠す暗号を作ってみる。\n",
    "暗号の形式は、[alan850627/music-cipher](https://github.com/alan850627/music-cipher/)で使われている形式を使うことにする。\n",
    "使う文字は、大文字テキストのみということにして、まずは変換辞書を作る。\n",
    "暗号辞書は、music21パッケージを使って楽譜作成することを前提に、music21で読み込める書式にしておく。"
   ]
  },
  {
   "cell_type": "code",
   "execution_count": 35,
   "id": "1242d10a",
   "metadata": {},
   "outputs": [
    {
     "name": "stdout",
     "output_type": "stream",
     "text": [
      "{'A': 'A4', 'B': 'B4', 'C': 'C4', 'D': 'D4', 'E': 'E4', 'F': 'F4', 'G': 'G4', 'H': 'A8', 'I': 'B8', 'J': 'C8', 'K': 'D8', 'L': 'E8', 'M': 'F8', 'N': 'G8', 'O': 'A16', 'P': 'B16', 'Q': 'C16', 'R': 'D16', 'S': 'E16', 'T': 'F16', 'U': 'G16', 'V': 'A32', 'W': 'B32', 'X': 'C32', 'Y': 'D32', 'Z': 'E32'}\n"
     ]
    }
   ],
   "source": [
    "import string\n",
    "import math\n",
    "\n",
    "dic_A2G={0:'A', 1:'B', 2:'C', 3:'D', 4:'E', 5:'F', 6:'G'}\n",
    "dic={}\n",
    "for idx, char in enumerate(letters):\n",
    "    dic[char]=str(dic_A2G[idx%7])+str(4*2**math.floor(idx/7))\n",
    "print(dic)"
   ]
  },
  {
   "cell_type": "markdown",
   "id": "0132bb5c",
   "metadata": {},
   "source": [
    "暗号化するテキストは\"HELLO WORLD\"ということにしてみよう。\n",
    "それでは、楽譜に暗号化してみる。"
   ]
  },
  {
   "cell_type": "code",
   "execution_count": null,
   "id": "86fb934f",
   "metadata": {},
   "outputs": [],
   "source": [
    "message='hello world'.replace(' ', '').strip().upper() # 空白などは、置換で除去される\n",
    "letters = list(string.ascii_uppercase)\n",
    "melody=[]\n",
    "for c in message:\n",
    "    melody.append(dic[c])"
   ]
  },
  {
   "cell_type": "code",
   "execution_count": null,
   "id": "c8c9aede",
   "metadata": {},
   "outputs": [],
   "source": [
    "import music21 as m21\n",
    "import pathlib\n",
    "\n",
    "# MusicScore 4ではOS Errorが起きるので 3を使う\n",
    "m21.environment.set('musescoreDirectPNGPath', \n",
    "    pathlib.PosixPath('/Applications/MuseScore 3.app/Contents/MacOS/mscore'))\n",
    "#us = environment.Environment()    "
   ]
  },
  {
   "cell_type": "code",
   "execution_count": 43,
   "id": "f0089528",
   "metadata": {},
   "outputs": [
    {
     "data": {
      "image/png": "[encoded data removed]",
      "text/plain": [
       "<IPython.core.display.Image object>"
      ]
     },
     "metadata": {
      "image/png": {
       "height": 49,
       "width": 674
      }
     },
     "output_type": "display_data"
    }
   ],
   "source": [
    "melody=m21.converter.parse('tinynotation: 4/4'+' '.join(melody))\n",
    "melody.show()"
   ]
  },
  {
   "cell_type": "markdown",
   "id": "71b98caf",
   "metadata": {},
   "source": [
    "ついでに、midiで\"Hello World\"というテキストを暗号化した「曲」も聴くことができるようにしてみた。\n",
    "意外なことに、文字列\"Hello World\"から作られたメロディも悪くない。"
   ]
  },
  {
   "cell_type": "code",
   "execution_count": 44,
   "id": "159ba2ed",
   "metadata": {},
   "outputs": [
    {
     "data": {
      "text/html": [
       "\n",
       "        <div id=\"midiPlayerDiv6091\"></div>\n",
       "        <link rel=\"stylesheet\" href=\"https://cuthbertLab.github.io/music21j/css/m21.css\">\n",
       "        \n",
       "        <script\n",
       "        src=\"https://cdnjs.cloudflare.com/ajax/libs/require.js/2.3.6/require.min.js\"\n",
       "        ></script>\n",
       "    \n",
       "        <script>\n",
       "        function midiPlayerDiv6091_play() {\n",
       "            const rq = require.config({\n",
       "                paths: {\n",
       "                    'music21': 'https://cuthbertLab.github.io/music21j/releases/music21.debug',\n",
       "                }\n",
       "            });\n",
       "            rq(['music21'], function(music21) {\n",
       "                mp = new music21.miditools.MidiPlayer();\n",
       "                mp.addPlayer(\"#midiPlayerDiv6091\");\n",
       "                mp.base64Load(\"data:audio/midi;base64,TVRoZAAAAAYAAQACJ2BNVHJrAAAAFAD/UQMHoSAA/1gEBAIYCM5g/y8ATVRyawAAAF8A/wMAAOAAQM5gkDRazmCANAAAkDRapzCANAAAkDRapzCANAAAkDlak1iAOQAAkDtaiWyAOwAAkDlak1iAOQAAkDJak1iAMgAAkDRapzCANAAAkDJazmCAMgDOYP8vAA==\");\n",
       "            });\n",
       "        }\n",
       "        if (typeof require === 'undefined') {\n",
       "            setTimeout(midiPlayerDiv6091_play, 2000);\n",
       "        } else {\n",
       "            midiPlayerDiv6091_play();\n",
       "        }\n",
       "        </script>"
      ],
      "text/plain": [
       "<IPython.core.display.HTML object>"
      ]
     },
     "metadata": {},
     "output_type": "display_data"
    }
   ],
   "source": [
    "melody.show('midi')"
   ]
  },
  {
   "cell_type": "markdown",
   "id": "da7aeaa4",
   "metadata": {},
   "source": [
    "## ブラームスが恋人シーボルトの名前を楽譜に埋め込んだ!?\n",
    "\n",
    "ヨハネス・ブラームスが1865年に作曲し弦楽六重奏曲第2番ト長調作品36には、恋人の名前を埋め込んだと言われている（参考 [弦楽六重奏曲第2番 (ブラームス)](https://ja.wikipedia.org/wiki/弦楽六重奏曲第2番_(ブラームス))）。\n",
    "第1楽章の第2主題終結部でヴァイオリンがA－G－A－H－Eというメロディを、バイオリンが奏でる。\n",
    "これは、恋人アガーテ・フォン・ジーボルト（Agathe von Siebold）の名前Agahteだという逸話がある。\n",
    "ちなみに、アガーテ・フォン・ジーボルトは、江戸時代に日本を訪れたフィリップ・フランツ・バルタザール・フォン・シーボルトの親戚だ。\n",
    "\n",
    "この逸話が真実なのかはさておき、楽譜に隠された暗号というのはロマンがあって面白い。"
   ]
  },
  {
   "cell_type": "code",
   "execution_count": null,
   "id": "ae36a669",
   "metadata": {},
   "outputs": [],
   "source": []
  }
 ],
 "metadata": {
  "kernelspec": {
   "display_name": "jupyter-book-py311",
   "language": "python",
   "name": "jupyter-book-py311"
  },
  "language_info": {
   "codemirror_mode": {
    "name": "ipython",
    "version": 3
   },
   "file_extension": ".py",
   "mimetype": "text/x-python",
   "name": "python",
   "nbconvert_exporter": "python",
   "pygments_lexer": "ipython3",
   "version": "3.11.9"
  },
  "toc": {
   "base_numbering": 1,
   "nav_menu": {},
   "number_sections": true,
   "sideBar": true,
   "skip_h1_title": false,
   "title_cell": "Table of Contents",
   "title_sidebar": "Contents",
   "toc_cell": false,
   "toc_position": {},
   "toc_section_display": true,
   "toc_window_display": false
  }
 },
 "nbformat": 4,
 "nbformat_minor": 5
}
