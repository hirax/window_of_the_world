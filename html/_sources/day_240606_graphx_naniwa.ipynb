{
 "cells": [
  {
   "cell_type": "markdown",
   "id": "ff8d1c55",
   "metadata": {},
   "source": [
    "# 『なにわ十六橋智恵の渡り』には「オイラー閉路」が存在する。('24.06.06)"
   ]
  },
  {
   "cell_type": "markdown",
   "id": "a165001b",
   "metadata": {},
   "source": [
    "## 「保古帖」（甲雑-58）巻19収録の「なにわ十六橋智恵の渡り」\n",
    "\n",
    "昨日は、[『なには八ツ橋智恵の渡り』](https://hirax.github.io/wow/html/day_240605_graph_naniwa.html)を、単純な「ケーニヒスベルグの橋の問題」として解いてみた。\n",
    "つまり、「すべての橋を1度だけ渡り、同じ場所に戻ってくることができるか」という、ケーニヒスベルグの橋の問題として解いてみた。\n",
    "\n",
    "「保古帖」（甲雑-58）巻19には、「なにわ十六橋智恵の渡り」という、同様の問題が収録されている。\n",
    "そこで、今日は、「なにわ十六橋智恵の渡り」を、やはり単純な※ケーニヒスベルグの橋の問題として解いてみようと思う。\n",
    "\n",
    "※「単純な」という言葉の意味については、後述しようと思う。\n",
    "\n",
    "%<img style=\"float:center;transform: rotate(0deg); height:12cm\" src=\"./images/day_240606_graphx_naniwa_16.jpeg\" />\n",
    "```{figure} ./images/day_240606_graphx_naniwa_16.jpeg\n",
    "---\n",
    "height: 12cm\n",
    "---\n",
    "「なにわ十六橋智恵の渡り」\n",
    "```\n",
    "\n",
    "## 「なにわ十六橋智恵の渡り」は一筆書き可能\n",
    "\n",
    "「なにわ十六橋智恵の渡り」は、少し見づらいのだけれど、題目通りに16の橋がある。\n",
    "一見すると、14橋しかないように見えるが、島内部にある橋がひとつ、折り目に重なる橋がひとつあり、合計で16の橋がある。\n",
    "そして、橋で繋がれた島は、合計7つある。\n",
    "島内部にある橋は、「ケーニヒスベルグの橋の問題」としては存在を無視して良い。\n",
    "したがって、「なにわ十六橋智恵の渡り」はこういう問題だ。\n",
    "「7つの頂点間を結ぶ15の辺を、ちょうど1度だけ通るオイラー閉路が存在するか？」\n",
    "\n",
    "まずは、「なにわ十六橋智恵の渡り」を表現する、グラフ構造を作ってみよう。\n",
    "下記では、同一頂点に戻る一辺を含む「7つの頂点間を結ぶ16の辺」を作っているが、「ケーニヒスベルグの橋の問題」としては、「7つの頂点間を結ぶ15の辺」と扱っても構わない。"
   ]
  },
  {
   "cell_type": "code",
   "execution_count": 18,
   "id": "3e49a3ef",
   "metadata": {
    "tags": [
     "hide-input"
    ]
   },
   "outputs": [
    {
     "name": "stdout",
     "output_type": "stream",
     "text": [
      "島の数 7\n",
      "橋の数 16\n"
     ]
    },
    {
     "data": {
      "image/svg+xml": [
       "<svg xmlns=\"http://www.w3.org/2000/svg\" xmlns:xlink=\"http://www.w3.org/1999/xlink\" width=\"263pt\" height=\"332pt\" viewBox=\"0.00 0.00 262.54 332.00\">\n",
       "<g id=\"graph0\" class=\"graph\" transform=\"scale(1 1) rotate(0) translate(4 328)\">\n",
       "<polygon fill=\"white\" stroke=\"transparent\" points=\"-4,4 -4,-328 258.54,-328 258.54,4 -4,4\"/>\n",
       "<!-- 難波A -->\n",
       "<g id=\"node1\" class=\"node\">\n",
       "<title>難波A</title>\n",
       "<ellipse fill=\"none\" stroke=\"black\" cx=\"88.1\" cy=\"-306\" rx=\"36\" ry=\"18\"/>\n",
       "<text text-anchor=\"middle\" x=\"88.1\" y=\"-302.3\" font-family=\"Times,serif\" font-size=\"14.00\">難波A</text>\n",
       "</g>\n",
       "<!-- 難波B -->\n",
       "<g id=\"node2\" class=\"node\">\n",
       "<title>難波B</title>\n",
       "<ellipse fill=\"none\" stroke=\"black\" cx=\"35.1\" cy=\"-234\" rx=\"35.19\" ry=\"18\"/>\n",
       "<text text-anchor=\"middle\" x=\"35.1\" y=\"-230.3\" font-family=\"Times,serif\" font-size=\"14.00\">難波B</text>\n",
       "</g>\n",
       "<!-- 難波A&#45;&#45;難波B -->\n",
       "<g id=\"edge1\" class=\"edge\">\n",
       "<title>難波A--難波B</title>\n",
       "<path fill=\"none\" stroke=\"black\" d=\"M70.92,-289.81C61.16,-278.71 49.69,-263.65 42.17,-252.13\"/>\n",
       "</g>\n",
       "<!-- 難波A&#45;&#45;難波B -->\n",
       "<g id=\"edge2\" class=\"edge\">\n",
       "<title>難波A--難波B</title>\n",
       "<path fill=\"none\" stroke=\"black\" d=\"M81.15,-288.05C73.56,-276.4 61.87,-261.07 52.01,-249.89\"/>\n",
       "</g>\n",
       "<!-- 難波D -->\n",
       "<g id=\"node3\" class=\"node\">\n",
       "<title>難波D</title>\n",
       "<ellipse fill=\"none\" stroke=\"black\" cx=\"142.1\" cy=\"-234\" rx=\"36\" ry=\"18\"/>\n",
       "<text text-anchor=\"middle\" x=\"142.1\" y=\"-230.3\" font-family=\"Times,serif\" font-size=\"14.00\">難波D</text>\n",
       "</g>\n",
       "<!-- 難波A&#45;&#45;難波D -->\n",
       "<g id=\"edge3\" class=\"edge\">\n",
       "<title>難波A--難波D</title>\n",
       "<path fill=\"none\" stroke=\"black\" d=\"M95.29,-288.05C103.04,-276.4 114.95,-261.07 124.97,-249.89\"/>\n",
       "</g>\n",
       "<!-- 難波A&#45;&#45;難波D -->\n",
       "<g id=\"edge4\" class=\"edge\">\n",
       "<title>難波A--難波D</title>\n",
       "<path fill=\"none\" stroke=\"black\" d=\"M105.18,-290.15C115.26,-278.92 127.25,-263.48 135.01,-251.79\"/>\n",
       "</g>\n",
       "<!-- 難波B&#45;&#45;難波B -->\n",
       "<g id=\"edge5\" class=\"edge\">\n",
       "<title>難波B--難波B</title>\n",
       "<path fill=\"none\" stroke=\"black\" d=\"M60.23,-246.76C74.71,-249.36 88.19,-245.11 88.19,-234 88.19,-222.89 74.71,-218.64 60.23,-221.24\"/>\n",
       "</g>\n",
       "<!-- 難波C -->\n",
       "<g id=\"node4\" class=\"node\">\n",
       "<title>難波C</title>\n",
       "<ellipse fill=\"none\" stroke=\"black\" cx=\"47.1\" cy=\"-90\" rx=\"35.19\" ry=\"18\"/>\n",
       "<text text-anchor=\"middle\" x=\"47.1\" y=\"-86.3\" font-family=\"Times,serif\" font-size=\"14.00\">難波C</text>\n",
       "</g>\n",
       "<!-- 難波B&#45;&#45;難波C -->\n",
       "<g id=\"edge6\" class=\"edge\">\n",
       "<title>難波B--難波C</title>\n",
       "<path fill=\"none\" stroke=\"black\" d=\"M36.54,-215.87C38.85,-188.58 43.33,-135.52 45.64,-108.19\"/>\n",
       "</g>\n",
       "<!-- 難波F -->\n",
       "<g id=\"node5\" class=\"node\">\n",
       "<title>難波F</title>\n",
       "<ellipse fill=\"none\" stroke=\"black\" cx=\"140.1\" cy=\"-90\" rx=\"34.39\" ry=\"18\"/>\n",
       "<text text-anchor=\"middle\" x=\"140.1\" y=\"-86.3\" font-family=\"Times,serif\" font-size=\"14.00\">難波F</text>\n",
       "</g>\n",
       "<!-- 難波B&#45;&#45;難波F -->\n",
       "<g id=\"edge7\" class=\"edge\">\n",
       "<title>難波B--難波F</title>\n",
       "<path fill=\"none\" stroke=\"black\" d=\"M46.94,-216.99C67.1,-189.71 107.89,-134.55 128.14,-107.17\"/>\n",
       "</g>\n",
       "<!-- 難波D&#45;&#45;難波F -->\n",
       "<g id=\"edge10\" class=\"edge\">\n",
       "<title>難波D--難波F</title>\n",
       "<path fill=\"none\" stroke=\"black\" d=\"M132.81,-216.43C126.49,-189.07 125.73,-134.75 131.3,-107.46\"/>\n",
       "</g>\n",
       "<!-- 難波D&#45;&#45;難波F -->\n",
       "<g id=\"edge11\" class=\"edge\">\n",
       "<title>難波D--難波F</title>\n",
       "<path fill=\"none\" stroke=\"black\" d=\"M141.86,-215.87C141.47,-188.58 140.72,-135.52 140.34,-108.19\"/>\n",
       "</g>\n",
       "<!-- 難波D&#45;&#45;難波F -->\n",
       "<g id=\"edge12\" class=\"edge\">\n",
       "<title>難波D--難波F</title>\n",
       "<path fill=\"none\" stroke=\"black\" d=\"M150.91,-216.43C156.47,-189.07 155.7,-134.75 149.35,-107.46\"/>\n",
       "</g>\n",
       "<!-- 難波E -->\n",
       "<g id=\"node7\" class=\"node\">\n",
       "<title>難波E</title>\n",
       "<ellipse fill=\"none\" stroke=\"black\" cx=\"220.1\" cy=\"-162\" rx=\"34.39\" ry=\"18\"/>\n",
       "<text text-anchor=\"middle\" x=\"220.1\" y=\"-158.3\" font-family=\"Times,serif\" font-size=\"14.00\">難波E</text>\n",
       "</g>\n",
       "<!-- 難波D&#45;&#45;難波E -->\n",
       "<g id=\"edge9\" class=\"edge\">\n",
       "<title>難波D--難波E</title>\n",
       "<path fill=\"none\" stroke=\"black\" d=\"M159.02,-217.81C172.19,-205.99 190.38,-189.67 203.47,-177.92\"/>\n",
       "</g>\n",
       "<!-- 難波G -->\n",
       "<g id=\"node6\" class=\"node\">\n",
       "<title>難波G</title>\n",
       "<ellipse fill=\"none\" stroke=\"black\" cx=\"140.1\" cy=\"-18\" rx=\"36\" ry=\"18\"/>\n",
       "<text text-anchor=\"middle\" x=\"140.1\" y=\"-14.3\" font-family=\"Times,serif\" font-size=\"14.00\">難波G</text>\n",
       "</g>\n",
       "<!-- 難波C&#45;&#45;難波G -->\n",
       "<g id=\"edge8\" class=\"edge\">\n",
       "<title>難波C--難波G</title>\n",
       "<path fill=\"none\" stroke=\"black\" d=\"M66.37,-74.5C82.33,-62.48 104.9,-45.49 120.85,-33.49\"/>\n",
       "</g>\n",
       "<!-- 難波F&#45;&#45;難波G -->\n",
       "<g id=\"edge14\" class=\"edge\">\n",
       "<title>難波F--難波G</title>\n",
       "<path fill=\"none\" stroke=\"black\" d=\"M128.5,-72.76C125.96,-61.46 125.96,-46.44 128.52,-35.15\"/>\n",
       "</g>\n",
       "<!-- 難波F&#45;&#45;難波G -->\n",
       "<g id=\"edge15\" class=\"edge\">\n",
       "<title>難波F--難波G</title>\n",
       "<path fill=\"none\" stroke=\"black\" d=\"M140.1,-71.7C140.1,-60.85 140.1,-46.92 140.1,-36.1\"/>\n",
       "</g>\n",
       "<!-- 難波F&#45;&#45;難波G -->\n",
       "<g id=\"edge16\" class=\"edge\">\n",
       "<title>難波F--難波G</title>\n",
       "<path fill=\"none\" stroke=\"black\" d=\"M151.7,-72.76C154.24,-61.46 154.23,-46.44 151.68,-35.15\"/>\n",
       "</g>\n",
       "<!-- 難波E&#45;&#45;難波F -->\n",
       "<g id=\"edge13\" class=\"edge\">\n",
       "<title>難波E--難波F</title>\n",
       "<path fill=\"none\" stroke=\"black\" d=\"M203.13,-146.15C189.55,-134.28 170.61,-117.7 157.04,-105.82\"/>\n",
       "</g>\n",
       "</g>\n",
       "</svg>"
      ],
      "text/plain": [
       "<IPython.core.display.SVG object>"
      ]
     },
     "metadata": {},
     "output_type": "display_data"
    }
   ],
   "source": [
    "import numpy as np\n",
    "import networkx as nx\n",
    "\n",
    "# c.f. https://medium.com/@victorialandaberry/solving-the-konigsberg-bridge-problem-with-python-914f9f51bb8e\n",
    "g = nx.MultiGraph() #create an empto Multigraph named G\n",
    "#add nodes one by one \n",
    "g.add_node(\"難波A\")\n",
    "g.add_node(\"難波B\")\n",
    "g.add_node(\"難波C\")\n",
    "g.add_node(\"難波D\")\n",
    "g.add_node(\"難波E\")\n",
    "g.add_node(\"難波F\")\n",
    "g.add_node(\"難波G\")\n",
    "#add edges\n",
    "g.add_edge(\"難波A\", \"難波B\")\n",
    "g.add_edge(\"難波A\", \"難波B\")\n",
    "g.add_edge(\"難波A\", \"難波D\")\n",
    "g.add_edge(\"難波A\", \"難波D\")\n",
    "g.add_edge(\"難波B\", \"難波C\")\n",
    "g.add_edge(\"難波B\", \"難波F\")\n",
    "g.add_edge(\"難波B\", \"難波B\")\n",
    "g.add_edge(\"難波C\", \"難波G\")\n",
    "g.add_edge(\"難波D\", \"難波E\")\n",
    "g.add_edge(\"難波D\", \"難波F\")\n",
    "g.add_edge(\"難波D\", \"難波F\")\n",
    "g.add_edge(\"難波D\", \"難波F\")\n",
    "g.add_edge(\"難波E\", \"難波F\")\n",
    "g.add_edge(\"難波F\", \"難波G\")\n",
    "g.add_edge(\"難波F\", \"難波G\")\n",
    "g.add_edge(\"難波F\", \"難波G\")\n",
    "\n",
    "print(\"島の数\",  g.number_of_nodes())\n",
    "print(\"橋の数\", g.number_of_edges())\n",
    "\n",
    "from IPython.display import display,SVG\n",
    "\n",
    "def draw(graph):\n",
    "    svg = nx.nx_agraph.to_agraph(graph).draw(prog='dot',format='svg')\n",
    "    display(SVG(svg))\n",
    "\n",
    "draw(g)"
   ]
  },
  {
   "cell_type": "markdown",
   "id": "cc77dca3",
   "metadata": {},
   "source": [
    "%<img style=\"float:center;transform: rotate(0deg); height:9cm\" src=\"./images/day_240606_graphx_naniwa_graph.png\" />\n",
    "```{figure} ./images/day_240606_graphx_naniwa_graph.png\n",
    "---\n",
    "height: 9cm\n",
    "---\n",
    "「なにわ十六橋智恵の渡り」のグラフ構造\n",
    "```"
   ]
  },
  {
   "cell_type": "markdown",
   "id": "fe3f7a75",
   "metadata": {},
   "source": [
    "そして、オイラー閉路が存在するかどうかを判定する、昨日書いたコードを実行してみる。\n",
    "すると、「一筆書き経路で元の場所に戻ることができます」という結果が得られる。\n",
    "つまり、すべての島＝頂点に繋がる橋＝辺は偶数なので、「なにわ十六橋智恵の渡り」には「オイラー閉路が存在する」というのが答えだ。"
   ]
  },
  {
   "cell_type": "code",
   "execution_count": 19,
   "id": "95bc25d6",
   "metadata": {
    "tags": [
     "hide-input"
    ]
   },
   "outputs": [
    {
     "name": "stdout",
     "output_type": "stream",
     "text": [
      "一筆書き経路で元の場所に戻ることができます。\n"
     ]
    }
   ],
   "source": [
    "def eulerpath(graph):\n",
    "    odd=0\n",
    "    a=list(graph.degree(graph.nodes()))\n",
    "    for i in a:\n",
    "        if (i[1] % 2) != 0:\n",
    "            odd+=1\n",
    "    if odd>0:\n",
    "        print(\"一筆書き経路で元の場所に戻ることはできません。\")\n",
    "    else:\n",
    "        print(\"一筆書き経路で元の場所に戻ることができます。\")\n",
    "\n",
    "eulerpath(g)"
   ]
  },
  {
   "cell_type": "markdown",
   "id": "9cd0714d",
   "metadata": {},
   "source": [
    "## 一筆書き経路（オイラー閉路）を計算してみる。\n",
    "\n",
    "一筆書き経路（オイラー閉路）が存在するとわかれば、その経路を計算するのは簡単だ。\n",
    "島や橋の数が多ければ計算時間は掛かるけれど、今回の「なにわ十六橋智恵の渡り」くらいの計算量であれば、一瞬で経路例を作り出すことができる。"
   ]
  },
  {
   "cell_type": "code",
   "execution_count": 20,
   "id": "1438fb32",
   "metadata": {
    "tags": [
     "hide-input"
    ]
   },
   "outputs": [
    {
     "name": "stdout",
     "output_type": "stream",
     "text": [
      "難波A から 難波D に渡る。\n",
      "難波D から 難波F に渡る。\n",
      "難波F から 難波G に渡る。\n",
      "難波G から 難波F に渡る。\n",
      "難波F から 難波D に渡る。\n",
      "難波D から 難波F に渡る。\n",
      "難波F から 難波G に渡る。\n",
      "難波G から 難波C に渡る。\n",
      "難波C から 難波B に渡る。\n",
      "難波B から 難波B に渡る。\n",
      "難波B から 難波F に渡る。\n",
      "難波F から 難波E に渡る。\n",
      "難波E から 難波D に渡る。\n",
      "難波D から 難波A に渡る。\n",
      "難波A から 難波B に渡る。\n",
      "難波B から 難波A に渡る。\n"
     ]
    }
   ],
   "source": [
    "for (u,v) in list(nx.eulerian_circuit(g)):\n",
    "    print(u,'から',v,'に渡る。')"
   ]
  },
  {
   "cell_type": "markdown",
   "id": "ecb4e11d",
   "metadata": {},
   "source": [
    "## 「なにわ十六橋智恵の渡り」の舞台「中之島」あたりを眺めてみる\n",
    "\n",
    "「ケーニヒスベルグの橋の問題」が、現実の町に存在する島や橋を題材にしたように、大阪を舞台とした「ケーニヒスベルグの橋の問題」も、実際の町を踏まえた観光計算問題だ。\n",
    "ちなみに、「なにわ十六橋智恵の渡り」の舞台は中之島あたりである。\n",
    "東西南北の方向は異なるが、現在の地図を貼り付けてみると、下のような具合だ。\n",
    "\n",
    "%<img style=\"float:center;transform: rotate(0deg); height:9cm\" src=\"./images/day_240606_graphx_naniwa_.png\" />\n",
    "```{figure} ./images/day_240606_graphx_naniwa_.png\n",
    "---\n",
    "height: 9cm\n",
    "---\n",
    "「なにわ十六橋智恵の渡り」の舞台となった場所（現在）\n",
    "```\n"
   ]
  },
  {
   "cell_type": "markdown",
   "id": "ce7573bf",
   "metadata": {},
   "source": [
    "## 和算の「橋渡り問題」はまだ続く\n",
    "\n",
    "『浪華二十八橋智慧渡』や『なには八ツ橋智恵の渡り』あるいは『なにわ十六橋智恵の渡り』といった具合で、和算書物などに登場する「大阪、水の都での橋渡り問題」は多い。\n",
    "古地図と和算の出題図を眺めながら、大阪の町を歩いてみるのも面白いかもしれない。"
   ]
  },
  {
   "cell_type": "code",
   "execution_count": null,
   "id": "8aab315e",
   "metadata": {},
   "outputs": [],
   "source": []
  }
 ],
 "metadata": {
  "celltoolbar": "Tags",
  "kernelspec": {
   "display_name": "Python 3 (ipykernel)",
   "language": "python",
   "name": "python3"
  },
  "language_info": {
   "codemirror_mode": {
    "name": "ipython",
    "version": 3
   },
   "file_extension": ".py",
   "mimetype": "text/x-python",
   "name": "python",
   "nbconvert_exporter": "python",
   "pygments_lexer": "ipython3",
   "version": "3.11.9"
  },
  "toc": {
   "base_numbering": 1,
   "nav_menu": {},
   "number_sections": true,
   "sideBar": true,
   "skip_h1_title": false,
   "title_cell": "Table of Contents",
   "title_sidebar": "Contents",
   "toc_cell": false,
   "toc_position": {},
   "toc_section_display": true,
   "toc_window_display": false
  }
 },
 "nbformat": 4,
 "nbformat_minor": 5
}
