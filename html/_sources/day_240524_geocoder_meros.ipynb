{
 "cells": [
  {
   "cell_type": "markdown",
   "id": "655a108b",
   "metadata": {},
   "source": [
    "# 史実を辿る「走れメロス」計算 ♯1 ('24.05.24)"
   ]
  },
  {
   "cell_type": "markdown",
   "id": "2cb570d7",
   "metadata": {},
   "source": [
    "太宰治「走れメロス」では、主人公メロスは、友人セリヌンティウスを人質として残し、シラクスの市街から十里(40km)離れた村まで3日間かけて往復する。\n",
    "18世紀ドイツで、フリードリヒ・フォン・シラーが書いた書物の日本訳※にもとづいて太宰が書いた、「走れメロス」物語にもとづいて、メロスの移動速度を検証した[優れた文献](https://www.rimse.or.jp/research/past/pdf/1st/work03.pdf)はあるが、さらに史実に遡った移動速度検証は無い。\n",
    "そこで、ここではそうした計算を試みていく。\n",
    "\n",
    "※ 新編シラー詩抄 小栗孝則訳 改造文庫（昭和12年）\n"
   ]
  },
  {
   "cell_type": "markdown",
   "id": "a26e83ca",
   "metadata": {},
   "source": [
    "「走れメロス」は、そのルーツを辿ると、紀元前400年頃のイタリア、ディオニュシオス1世・2世の時代の話だ。\n",
    "さまざまなバリエーションがあるが、比較的多いパターンは、ディオニュシオスから死刑を宣告されたピュティアスが友人ダモンを人質にして家まで往復をする、というものだ。\n",
    "往復するタイムリミットは、当日中というものもあれば、三日後や数日後のものもある。\n",
    "\n",
    "%<img style=\"float:center;transform: rotate(0deg); height:10cm\" src=\"./images/day_240524_geocoder_meros_Damon_and_Pythias.gif\" />\n",
    "\n",
    "```{figure} ./images/day_240524_geocoder_meros_Damon_and_Pythias.gif\n",
    "---\n",
    "height: 10cm\n",
    "---\n",
    "The story of Greeksの挿絵\n",
    "```"
   ]
  },
  {
   "cell_type": "markdown",
   "id": "4eff4d6f",
   "metadata": {},
   "source": [
    "## 竹馬の友セリヌンティウスと過ごした村には戻れない\n",
    "\n",
    "まずは、太宰治版の物語に登場する名前にもとづくと、色々矛盾が出てくる。\n",
    "メロスがシラクサ(Siracusa)の街に人質として残したのは、竹馬の友セリヌンティウスだ。\n",
    "つまり、小さい頃から共に過ごした友人である。\n",
    "\n",
    "セリヌンティウスというのは、「セリヌスの人」という名前なので、メロスとセリヌンティウスが暮らしていた場所は、\n",
    "はシチリア島の南西部、セリヌス（Selinous）だろうか。\n",
    "だとすると、メロスはSiracusaからSelinunteまでを三日間で往復したことになる。\n",
    "\n",
    "SiracusaとSelinunteの緯度経度を調べ、地図に描いてみるとこうなる。"
   ]
  },
  {
   "cell_type": "code",
   "execution_count": null,
   "id": "1c8ddf22",
   "metadata": {
    "tags": [
     "hide-input"
    ]
   },
   "outputs": [],
   "source": [
    "# Geocoderパッケージを使う\n",
    "import geocoder  # conda install conda-forge::geocoder\n",
    "import time\n",
    "\n",
    "# 地名文字列\n",
    "place1='Siracusa,Italy'\n",
    "place2='Selinunte,Italy'\n",
    "\n",
    "# 緯度経度を取得する\n",
    "siracusa=geocoder.osm(place1, timeout=5.0).latlng\n",
    "time.sleep(3)\n",
    "selinunte=geocoder.osm(place2, timeout=5.0).latlng\n",
    "# 確認表示\n",
    "print(place1, siracusa)\n",
    "print(place2, selinunte)"
   ]
  },
  {
   "cell_type": "code",
   "execution_count": 14,
   "id": "88308a83",
   "metadata": {
    "tags": [
     "hide-input"
    ]
   },
   "outputs": [
    {
     "data": {
      "text/html": [
       "<div style=\"width:100%;\"><div style=\"position:relative;width:100%;height:0;padding-bottom:60%;\"><span style=\"color:#565656\">Make this Notebook Trusted to load map: File -> Trust Notebook</span><iframe srcdoc=\"&lt;!DOCTYPE html&gt;\n",
       "&lt;html&gt;\n",
       "&lt;head&gt;\n",
       "    \n",
       "    &lt;meta http-equiv=&quot;content-type&quot; content=&quot;text/html; charset=UTF-8&quot; /&gt;\n",
       "    \n",
       "        &lt;script&gt;\n",
       "            L_NO_TOUCH = false;\n",
       "            L_DISABLE_3D = false;\n",
       "        &lt;/script&gt;\n",
       "    \n",
       "    &lt;style&gt;html, body {width: 100%;height: 100%;margin: 0;padding: 0;}&lt;/style&gt;\n",
       "    &lt;style&gt;#map {position:absolute;top:0;bottom:0;right:0;left:0;}&lt;/style&gt;\n",
       "    &lt;script src=&quot;https://cdn.jsdelivr.net/npm/leaflet@1.9.3/dist/leaflet.js&quot;&gt;&lt;/script&gt;\n",
       "    &lt;script src=&quot;https://code.jquery.com/jquery-3.7.1.min.js&quot;&gt;&lt;/script&gt;\n",
       "    &lt;script src=&quot;https://cdn.jsdelivr.net/npm/bootstrap@5.2.2/dist/js/bootstrap.bundle.min.js&quot;&gt;&lt;/script&gt;\n",
       "    &lt;script src=&quot;https://cdnjs.cloudflare.com/ajax/libs/Leaflet.awesome-markers/2.0.2/leaflet.awesome-markers.js&quot;&gt;&lt;/script&gt;\n",
       "    &lt;link rel=&quot;stylesheet&quot; href=&quot;https://cdn.jsdelivr.net/npm/leaflet@1.9.3/dist/leaflet.css&quot;/&gt;\n",
       "    &lt;link rel=&quot;stylesheet&quot; href=&quot;https://cdn.jsdelivr.net/npm/bootstrap@5.2.2/dist/css/bootstrap.min.css&quot;/&gt;\n",
       "    &lt;link rel=&quot;stylesheet&quot; href=&quot;https://netdna.bootstrapcdn.com/bootstrap/3.0.0/css/bootstrap.min.css&quot;/&gt;\n",
       "    &lt;link rel=&quot;stylesheet&quot; href=&quot;https://cdn.jsdelivr.net/npm/@fortawesome/fontawesome-free@6.2.0/css/all.min.css&quot;/&gt;\n",
       "    &lt;link rel=&quot;stylesheet&quot; href=&quot;https://cdnjs.cloudflare.com/ajax/libs/Leaflet.awesome-markers/2.0.2/leaflet.awesome-markers.css&quot;/&gt;\n",
       "    &lt;link rel=&quot;stylesheet&quot; href=&quot;https://cdn.jsdelivr.net/gh/python-visualization/folium/folium/templates/leaflet.awesome.rotate.min.css&quot;/&gt;\n",
       "    \n",
       "            &lt;meta name=&quot;viewport&quot; content=&quot;width=device-width,\n",
       "                initial-scale=1.0, maximum-scale=1.0, user-scalable=no&quot; /&gt;\n",
       "            &lt;style&gt;\n",
       "                #map_64ea85c110b496601cee0c6cbca2f52a {\n",
       "                    position: relative;\n",
       "                    width: 100.0%;\n",
       "                    height: 100.0%;\n",
       "                    left: 0.0%;\n",
       "                    top: 0.0%;\n",
       "                }\n",
       "                .leaflet-container { font-size: 1rem; }\n",
       "            &lt;/style&gt;\n",
       "        \n",
       "&lt;/head&gt;\n",
       "&lt;body&gt;\n",
       "    \n",
       "    \n",
       "            &lt;div class=&quot;folium-map&quot; id=&quot;map_64ea85c110b496601cee0c6cbca2f52a&quot; &gt;&lt;/div&gt;\n",
       "        \n",
       "&lt;/body&gt;\n",
       "&lt;script&gt;\n",
       "    \n",
       "    \n",
       "            var map_64ea85c110b496601cee0c6cbca2f52a = L.map(\n",
       "                &quot;map_64ea85c110b496601cee0c6cbca2f52a&quot;,\n",
       "                {\n",
       "                    center: [37.075474, 15.286586],\n",
       "                    crs: L.CRS.EPSG3857,\n",
       "                    zoom: 6,\n",
       "                    zoomControl: true,\n",
       "                    preferCanvas: false,\n",
       "                }\n",
       "            );\n",
       "\n",
       "            \n",
       "\n",
       "        \n",
       "    \n",
       "            var tile_layer_62dd4205416772ac829412b53d8958ed = L.tileLayer(\n",
       "                &quot;https://tile.openstreetmap.org/{z}/{x}/{y}.png&quot;,\n",
       "                {&quot;attribution&quot;: &quot;\\u0026copy; \\u003ca href=\\&quot;https://www.openstreetmap.org/copyright\\&quot;\\u003eOpenStreetMap\\u003c/a\\u003e contributors&quot;, &quot;detectRetina&quot;: false, &quot;maxNativeZoom&quot;: 19, &quot;maxZoom&quot;: 19, &quot;minZoom&quot;: 0, &quot;noWrap&quot;: false, &quot;opacity&quot;: 1, &quot;subdomains&quot;: &quot;abc&quot;, &quot;tms&quot;: false}\n",
       "            );\n",
       "        \n",
       "    \n",
       "            tile_layer_62dd4205416772ac829412b53d8958ed.addTo(map_64ea85c110b496601cee0c6cbca2f52a);\n",
       "        \n",
       "    \n",
       "            var marker_b44d01bf79dd097581f4ae2ae6ce1d9e = L.marker(\n",
       "                [37.075474, 15.286586],\n",
       "                {}\n",
       "            ).addTo(map_64ea85c110b496601cee0c6cbca2f52a);\n",
       "        \n",
       "    \n",
       "            var icon_d4224cfca625448b72f1211dcb34b9f3 = L.AwesomeMarkers.icon(\n",
       "                {&quot;extraClasses&quot;: &quot;fa-rotate-0&quot;, &quot;icon&quot;: &quot;info-sign&quot;, &quot;iconColor&quot;: &quot;white&quot;, &quot;markerColor&quot;: &quot;black&quot;, &quot;prefix&quot;: &quot;glyphicon&quot;}\n",
       "            );\n",
       "            marker_b44d01bf79dd097581f4ae2ae6ce1d9e.setIcon(icon_d4224cfca625448b72f1211dcb34b9f3);\n",
       "        \n",
       "    \n",
       "            var marker_d5c62263e0981e92459eab3a83fc7d24 = L.marker(\n",
       "                [37.583, 12.817],\n",
       "                {}\n",
       "            ).addTo(map_64ea85c110b496601cee0c6cbca2f52a);\n",
       "        \n",
       "    \n",
       "            var icon_e074c46f857524a167bb537cfe85efc5 = L.AwesomeMarkers.icon(\n",
       "                {&quot;extraClasses&quot;: &quot;fa-rotate-0&quot;, &quot;icon&quot;: &quot;info-sign&quot;, &quot;iconColor&quot;: &quot;white&quot;, &quot;markerColor&quot;: &quot;blue&quot;, &quot;prefix&quot;: &quot;glyphicon&quot;}\n",
       "            );\n",
       "            marker_d5c62263e0981e92459eab3a83fc7d24.setIcon(icon_e074c46f857524a167bb537cfe85efc5);\n",
       "        \n",
       "&lt;/script&gt;\n",
       "&lt;/html&gt;\" style=\"position:absolute;width:100%;height:100%;left:0;top:0;border:none !important;\" allowfullscreen webkitallowfullscreen mozallowfullscreen></iframe></div></div>"
      ],
      "text/plain": [
       "<folium.folium.Map at 0x107dc7c50>"
      ]
     },
     "execution_count": 14,
     "metadata": {},
     "output_type": "execute_result"
    }
   ],
   "source": [
    "# foliumパッケージを使う\n",
    "import folium\n",
    "\n",
    "#lat1,lon1 = siracusa.latlng\n",
    "#lat2,lon2 = selinunte.latlng\n",
    "lat1,lon1 = siracusa\n",
    "lat2,lon2 = selinunte\n",
    "\n",
    "# 地図を作る\n",
    "fmap = folium.Map(location=siracusa,zoom_start=6)\n",
    "#fmap = folium.Map(location=siracusa.latlng,zoom_start=6)\n",
    "\n",
    "# マーカープロット\n",
    "folium.Marker(location=[lat1,lon1],\n",
    "              icon=folium.Icon(color='black')\n",
    "             ).add_to(fmap)\n",
    "folium.Marker(location=[lat2,lon2],icon=folium.Icon(color='blue')\n",
    "             ).add_to(fmap)\n",
    "fmap # 表示する"
   ]
  },
  {
   "cell_type": "markdown",
   "id": "061243cd",
   "metadata": {},
   "source": [
    "%<img style=\"float:center;transform: rotate(0deg); height:10cm\" src=\"./images/day_240524_geocoder_meros_Damon_and_Pythias_map.png\" />\n",
    "\n",
    "```{figure} ./images/day_240524_geocoder_meros_Damon_and_Pythias_map.png\n",
    "---\n",
    "height: 10cm\n",
    "---\n",
    "SiracusaとSelinunteの位置\n",
    "```"
   ]
  },
  {
   "cell_type": "markdown",
   "id": "e07375f5",
   "metadata": {},
   "source": [
    "SiracusaとSelinunteは、シチリア島の中でもほとんど東西の反対側に位置していて、かなり遠い。\n",
    "実際、距離を計算してみると、直線距離でも230kmほどもある。"
   ]
  },
  {
   "cell_type": "code",
   "execution_count": 15,
   "id": "d0628fee",
   "metadata": {},
   "outputs": [
    {
     "name": "stdout",
     "output_type": "stream",
     "text": [
      "225.99443613592337 (km)\n"
     ]
    }
   ],
   "source": [
    "# geopyパッケージを使う\n",
    "from geopy.distance import geodesic # conda install conda-forge::geopy\n",
    "\n",
    "distance_km = geodesic(siracusa, selinunte).km\n",
    "print(distance_km,'(km)')"
   ]
  },
  {
   "cell_type": "markdown",
   "id": "11aaf017",
   "metadata": {},
   "source": [
    "日暮れが遅い時期、たとえば夏至の頃のシチリア島での「日暮れ」を調べてみると、18時30分くらい。\n",
    "すると、たとえば当日の日暮れまでの往復だと、直線距離でも時速53kmという非現実的な速度でなければ、メロスは往復できない。\n",
    "タイムリミットが三日後の日暮れまでであれば、夜も昼も走り続けること前提で、時速5.6kmとなる。"
   ]
  },
  {
   "cell_type": "code",
   "execution_count": 17,
   "id": "d1a14fca",
   "metadata": {
    "tags": [
     "hide-input"
    ]
   },
   "outputs": [
    {
     "name": "stdout",
     "output_type": "stream",
     "text": [
      "日の出時間： 2024/6/22 03:02:32\n",
      "日暮れ時間： 2024/6/21 16:04:53\n",
      "＋ 2 時間 28 分\n",
      "当日日暮れまでだった場合 53.1764705882353 km/h\n",
      "三日後の日暮れだった場合 5.614906832298137 km/h\n"
     ]
    }
   ],
   "source": [
    "# PyEphem astronomy libraryを使う\n",
    "import ephem # conda install anaconda::ephem\n",
    "import datetime\n",
    "\n",
    "siracusa_obs = ephem.Observer()\n",
    "siracusa_obs.lon = str(siracusa[0])\n",
    "siracusa_obs.lat = str(siracusa[1])\n",
    "siracusa_obs.date = ephem.Date('2024/06/21 13:0:0.0')\n",
    "sun = ephem.Sun()\n",
    "\n",
    "print('日の出時間：', siracusa_obs.next_rising(sun))\n",
    "print('日暮れ時間：', siracusa_obs.next_setting(sun))\n",
    "\n",
    "import math\n",
    "\n",
    "h=siracusa[0]/15.\n",
    "m=(h-math.floor(h))*60\n",
    "h=math.floor(h)\n",
    "\n",
    "print('＋',h,'時間',int(m),'分')\n",
    "\n",
    "print('当日日暮れまでだった場合',226*2/8.5,'km/h')\n",
    "print('三日後の日暮れだった場合',226*2/(24*3+8.5),'km/h')"
   ]
  },
  {
   "cell_type": "markdown",
   "id": "44443084",
   "metadata": {},
   "source": [
    "文献を辿っていくと、メロス（多くの文献ではピュティアス）が友人ダモンを人質として往復したのは、太宰が書いた十里先の村どころか、Siracusa市内のようだ。\n",
    "それであれば、当日の日暮れまでというタイムリミットでも不思議ではなさそうだ。"
   ]
  },
  {
   "cell_type": "markdown",
   "id": "4dbc544e",
   "metadata": {},
   "source": [
    "## 文献を調べて計算をする検証の旅は続く\n",
    "\n",
    "というわけで、「走れメロス」の検証の旅は、まだ始まったばかり。\n",
    "過去の文献を調べ、さまざまな計算をしていけば、いつかきっと何か発見することができるかも？"
   ]
  },
  {
   "cell_type": "code",
   "execution_count": null,
   "id": "49c06d68",
   "metadata": {},
   "outputs": [],
   "source": []
  }
 ],
 "metadata": {
  "celltoolbar": "Tags",
  "kernelspec": {
   "display_name": "jupyter-book-py311",
   "language": "python",
   "name": "jupyter-book-py311"
  },
  "language_info": {
   "codemirror_mode": {
    "name": "ipython",
    "version": 3
   },
   "file_extension": ".py",
   "mimetype": "text/x-python",
   "name": "python",
   "nbconvert_exporter": "python",
   "pygments_lexer": "ipython3",
   "version": "3.11.9"
  },
  "toc": {
   "base_numbering": 1,
   "nav_menu": {},
   "number_sections": true,
   "sideBar": true,
   "skip_h1_title": false,
   "title_cell": "Table of Contents",
   "title_sidebar": "Contents",
   "toc_cell": false,
   "toc_position": {},
   "toc_section_display": true,
   "toc_window_display": false
  }
 },
 "nbformat": 4,
 "nbformat_minor": 5
}
