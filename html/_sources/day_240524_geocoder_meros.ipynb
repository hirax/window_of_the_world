{
 "cells": [
  {
   "cell_type": "markdown",
   "id": "bb35b3cd",
   "metadata": {},
   "source": [
    "# 史実を辿る「走れメロス」計算 ♯1 ('24.05.24)"
   ]
  },
  {
   "cell_type": "markdown",
   "id": "a991dcc1",
   "metadata": {},
   "source": [
    "太宰治「走れメロス」では、主人公メロスは、友人セリヌンティウスを人質として残し、シラクスの市街から十里(40km)離れた村まで3日間かけて往復する。\n",
    "18世紀ドイツで、フリードリヒ・フォン・シラーが書いた書物の日本訳※にもとづいて太宰が書いた、「走れメロス」物語にもとづいて、メロスの移動速度を検証した[優れた文献](https://www.rimse.or.jp/research/past/pdf/1st/work03.pdf)はあるが、さらに史実に遡った移動速度検証は無い。\n",
    "そこで、ここではそうした計算を試みていく。\n",
    "\n",
    "※ 新編シラー詩抄 小栗孝則訳 改造文庫（昭和12年）\n"
   ]
  },
  {
   "cell_type": "markdown",
   "id": "be48c31e",
   "metadata": {},
   "source": [
    "「走れメロス」は、そのルーツを辿ると、紀元前400年頃のイタリア、ディオニュシオス1世・2世の時代の話だ。\n",
    "さまざまなバリエーションがあるが、比較的多いパターンは、ディオニュシオスから死刑を宣告されたピュティアスが友人ダモンを人質にして家まで往復をする、というものだ。\n",
    "往復するタイムリミットは、当日中というものもあれば、三日後や数日後のものもある。\n",
    "\n",
    "%<img style=\"float:center;transform: rotate(0deg); height:10cm\" src=\"./images/day_240524_geocoder_meros_Damon_and_Pythias.gif\" />\n",
    "\n",
    "```{figure} ./images/day_240524_geocoder_meros_Damon_and_Pythias.gif\n",
    "---\n",
    "height: 10cm\n",
    "---\n",
    "The story of Greeksの挿絵\n",
    "```"
   ]
  },
  {
   "cell_type": "markdown",
   "id": "ca349eb7",
   "metadata": {},
   "source": [
    "## 竹馬の友セリヌンティウスと過ごした村には戻れない\n",
    "\n",
    "まずは、太宰治版の物語に登場する名前にもとづくと、色々矛盾が出てくる。\n",
    "メロスがシラクサ(Siracusa)の街に人質として残したのは、竹馬の友セリヌンティウスだ。\n",
    "つまり、小さい頃から共に過ごした友人である。\n",
    "\n",
    "セリヌンティウスというのは、「セリヌスの人」という名前なので、メロスとセリヌンティウスが暮らしていた場所は、\n",
    "はシチリア島の南西部、セリヌス（Selinous）だろうか。\n",
    "だとすると、メロスはSiracusaからSelinunteまでを三日間で往復したことになる。\n",
    "\n",
    "SiracusaとSelinunteの緯度経度を調べ、地図に描いてみるとこうなる。"
   ]
  },
  {
   "cell_type": "code",
   "execution_count": null,
   "id": "934c9b07",
   "metadata": {
    "tags": [
     "hide-input"
    ]
   },
   "outputs": [],
   "source": [
    "# Geocoderパッケージを使う\n",
    "import geocoder  # conda install conda-forge::geocoder\n",
    "import time\n",
    "\n",
    "# 地名文字列\n",
    "place1='Siracusa,Italy'\n",
    "place2='Selinunte,Italy'\n",
    "\n",
    "# 緯度経度を取得する\n",
    "# 実際に取得する時\n",
    "#siracusa=geocoder.osm(place1, timeout=5.0).latlng\n",
    "#time.sleep(3)\n",
    "#selinunte=geocoder.osm(place2, timeout=5.0).latlng\n",
    "\n",
    "#jupyter{book}ビルド用\n",
    "siracusa=[37.075474, 15.286586]\n",
    "selinunte=[37.583, 12.817]\n",
    "\n",
    "# 確認表示\n",
    "print(place1, siracusa)\n",
    "print(place2, selinunte)"
   ]
  },
  {
   "cell_type": "code",
   "execution_count": null,
   "id": "76607ed9",
   "metadata": {
    "tags": [
     "hide-input"
    ]
   },
   "outputs": [],
   "source": [
    "# foliumパッケージを使う\n",
    "import folium\n",
    "\n",
    "#lat1,lon1 = siracusa.latlng\n",
    "#lat2,lon2 = selinunte.latlng\n",
    "lat1,lon1 = siracusa\n",
    "lat2,lon2 = selinunte\n",
    "\n",
    "# 地図を作る\n",
    "fmap = folium.Map(location=siracusa,zoom_start=6)\n",
    "#fmap = folium.Map(location=siracusa.latlng,zoom_start=6)\n",
    "\n",
    "# マーカープロット\n",
    "folium.Marker(location=[lat1,lon1],\n",
    "              icon=folium.Icon(color='black')\n",
    "             ).add_to(fmap)\n",
    "folium.Marker(location=[lat2,lon2],icon=folium.Icon(color='blue')\n",
    "             ).add_to(fmap)\n",
    "fmap # 表示する"
   ]
  },
  {
   "cell_type": "markdown",
   "id": "259b9ee6",
   "metadata": {},
   "source": [
    "SiracusaとSelinunteは、シチリア島の中でもほとんど東西の反対側に位置していて、かなり遠い。\n",
    "実際、距離を計算してみると、直線距離でも230kmほどもある。"
   ]
  },
  {
   "cell_type": "code",
   "execution_count": 15,
   "id": "d4ad26c8",
   "metadata": {
    "tags": [
     "hide-input"
    ]
   },
   "outputs": [
    {
     "name": "stdout",
     "output_type": "stream",
     "text": [
      "225.99443613592337 (km)\n"
     ]
    }
   ],
   "source": [
    "# geopyパッケージを使う\n",
    "from geopy.distance import geodesic # conda install conda-forge::geopy\n",
    "\n",
    "distance_km = geodesic(siracusa, selinunte).km\n",
    "print(distance_km,'(km)')"
   ]
  },
  {
   "cell_type": "markdown",
   "id": "e1b4b9d1",
   "metadata": {},
   "source": [
    "日暮れが遅い時期、たとえば夏至の頃のシチリア島での「日暮れ」を調べてみると、18時30分くらい。\n",
    "すると、たとえば当日の日暮れまでの往復だと、直線距離でも時速53kmという非現実的な速度でなければ、メロスは往復できない。\n",
    "タイムリミットが三日後の日暮れまでであれば、夜も昼も走り続けること前提で、時速5.6kmとなる。"
   ]
  },
  {
   "cell_type": "code",
   "execution_count": 17,
   "id": "3096795d",
   "metadata": {
    "tags": [
     "hide-input"
    ]
   },
   "outputs": [
    {
     "name": "stdout",
     "output_type": "stream",
     "text": [
      "日の出時間： 2024/6/22 03:02:32\n",
      "日暮れ時間： 2024/6/21 16:04:53\n",
      "＋ 2 時間 28 分\n",
      "当日日暮れまでだった場合 53.1764705882353 km/h\n",
      "三日後の日暮れだった場合 5.614906832298137 km/h\n"
     ]
    }
   ],
   "source": [
    "# PyEphem astronomy libraryを使う\n",
    "import ephem # conda install anaconda::ephem\n",
    "import datetime\n",
    "\n",
    "siracusa_obs = ephem.Observer()\n",
    "siracusa_obs.lon = str(siracusa[0])\n",
    "siracusa_obs.lat = str(siracusa[1])\n",
    "siracusa_obs.date = ephem.Date('2024/06/21 13:0:0.0')\n",
    "sun = ephem.Sun()\n",
    "\n",
    "print('日の出時間：', siracusa_obs.next_rising(sun))\n",
    "print('日暮れ時間：', siracusa_obs.next_setting(sun))\n",
    "\n",
    "import math\n",
    "\n",
    "h=siracusa[0]/15.\n",
    "m=(h-math.floor(h))*60\n",
    "h=math.floor(h)\n",
    "\n",
    "print('＋',h,'時間',int(m),'分')\n",
    "\n",
    "print('当日日暮れまでだった場合',226*2/8.5,'km/h')\n",
    "print('三日後の日暮れだった場合',226*2/(24*3+8.5),'km/h')"
   ]
  },
  {
   "cell_type": "markdown",
   "id": "3b28b999",
   "metadata": {},
   "source": [
    "文献を辿っていくと、メロス（多くの文献ではピュティアス）が友人ダモンを人質として往復したのは、太宰が書いた十里先の村どころか、Siracusa市内のようだ。\n",
    "それであれば、当日の日暮れまでというタイムリミットでも不思議ではなさそうだ。"
   ]
  },
  {
   "cell_type": "markdown",
   "id": "86fb8937",
   "metadata": {},
   "source": [
    "## 文献を調べて計算をする検証の旅は続く\n",
    "\n",
    "というわけで、「走れメロス」の検証の旅は、まだ始まったばかり。\n",
    "過去の文献を調べ、さまざまな計算をしていけば、いつかきっと何か発見することができるかも？"
   ]
  },
  {
   "cell_type": "code",
   "execution_count": null,
   "id": "0c1f9ffb",
   "metadata": {},
   "outputs": [],
   "source": []
  }
 ],
 "metadata": {
  "celltoolbar": "Tags",
  "kernelspec": {
   "display_name": "jupyter-book-py311",
   "language": "python",
   "name": "jupyter-book-py311"
  },
  "language_info": {
   "codemirror_mode": {
    "name": "ipython",
    "version": 3
   },
   "file_extension": ".py",
   "mimetype": "text/x-python",
   "name": "python",
   "nbconvert_exporter": "python",
   "pygments_lexer": "ipython3",
   "version": "3.11.9"
  },
  "toc": {
   "base_numbering": 1,
   "nav_menu": {},
   "number_sections": true,
   "sideBar": true,
   "skip_h1_title": false,
   "title_cell": "Table of Contents",
   "title_sidebar": "Contents",
   "toc_cell": false,
   "toc_position": {},
   "toc_section_display": true,
   "toc_window_display": false
  }
 },
 "nbformat": 4,
 "nbformat_minor": 5
}
