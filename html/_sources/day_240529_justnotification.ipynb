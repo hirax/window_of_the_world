{
 "cells": [
  {
   "cell_type": "markdown",
   "id": "87fba503",
   "metadata": {},
   "source": [
    "# 史実を辿る「走れメロス」計算ーアリストクセノスの音律編ー  ♯2 ('24.05.24)\n",
    "\n",
    "## メロスとセリヌンティウスのモデルは、ピタゴラス教団の同居人\n",
    "\n",
    "太宰治がなぞった「走れメロス」の物語について、歴史を遡って調べている([史実を辿る「走れメロス」計算 ♯1 ('24.05.24)](https://hirax.github.io/wow/html/day_240524_geocoder_meros.html))。\n",
    "最も原点に近いのは、紀元前4世紀の哲学者であるアリストクセノスが、シラクサの王だったディオニュシオス2世自身から聞いたという話だ。\n",
    "ディオニュシオス2世いわく、死刑を宣告されたピタゴラス教団のフィンチアスが、共に暮らしていたピタゴラス教団のダモーンを人質に、シラクサ市内の住居まで往復したという話である。\n",
    "\n",
    "%<img style=\"float:center;transform: rotate(0deg); height:10cm\" src=\"./images/day_240529_Bronnikov_gimnpifagoreizev.jpg\" />\n",
    "```{figure} ./images/day_240529_Bronnikov_gimnpifagoreizev.jpg\n",
    "---\n",
    "height: 10cm\n",
    "---\n",
    "日の出を祝うピタゴラス（Fyodor Bronnikov）\n",
    "```\n",
    "\n",
    "## ピタゴラス教団やアリストテレスに学んだアリストクセノス\n",
    "\n",
    "メロスのモデルとなった2人、は王も含めれば3人の話を、王から直接話を聞いたアリストクセノスは、ピタゴラス教団で学んだ後、アリストテレスに師事した。\n",
    "アリストクセノスが聞いたという話は、彼自身の著作としては残っていない。\n",
    "現代に残るアリストクセノスが書いたものは、音楽理論を書いた『ハルモニア原論』だけである。\n",
    "\n",
    "%<img style=\"float:center;transform: rotate(0deg); height:12cm\" src=\"./images/day_240529_Aristoxenus,_Elements_of_Harmony,_Vaticanus_graecus_191.jpg\" />\n",
    "```{figure} ./images/day_240529_Aristoxenus,_Elements_of_Harmony,_Vaticanus_graecus_191.jpg\n",
    "---\n",
    "height: 12cm\n",
    "---\n",
    "アリストクセノス『ハルモニア原論』\n",
    "```\n",
    "\n",
    "## アリストクセノスが作った純正律\n",
    "\n",
    "アリストクセノスは、彼の時代に存在したピタゴラス音階などに満足できず、その後の時代に完成される平均律や純正律といった、音楽の土台となる音律を考案した。\n",
    "平均律であれば後にメルセンヌ、純正律であれば後にプトレマイオスが、それぞれ洗練された形に作り直したが、アリストクセノスはそうした後世の音楽研究の先達だった。\n",
    "\n",
    "そこで、今日はピタゴラス音律や、純正律、そして平均律の、音の高さ比率を眺めてみようと思う。\n"
   ]
  },
  {
   "cell_type": "markdown",
   "id": "f8a94fad",
   "metadata": {},
   "source": [
    "## まずはピタゴラス音律を眺めてみる\n",
    "\n",
    "まずは、1オクターブ、つまり音の高さが2倍になるまでの音の高さ(周波数)を、ピタゴラス音律の比率で眺めてみよう。\n",
    "pytuningパッケージを使って計算してみると、何とも綺麗ではない比率が並んでいることがわかる。"
   ]
  },
  {
   "cell_type": "code",
   "execution_count": 94,
   "id": "27ada3f5",
   "metadata": {
    "tags": [
     "hide-input"
    ]
   },
   "outputs": [
    {
     "data": {
      "text/latex": [
       "$\\displaystyle 1$, $\\frac{256}{243}$, $\\frac{9}{8}$, $\\frac{32}{27}$, $\\frac{81}{64}$, $\\frac{4}{3}$, $\\frac{1024}{729}$, $\\frac{3}{2}$, $\\frac{128}{81}$, $\\frac{27}{16}$, $\\frac{16}{9}$, $\\frac{243}{128}$, $2$"
      ],
      "text/plain": [
       "<IPython.core.display.Math object>"
      ]
     },
     "metadata": {},
     "output_type": "display_data"
    }
   ],
   "source": [
    "from IPython.display import display, Math\n",
    "from sympy import latex\n",
    "\n",
    "from pytuning.scales import create_edo_scale,create_pythagorean_scale,create_diatonic_scale\n",
    "from pytuning.constants import five_limit_constructors\n",
    "\n",
    "def my_display(l): # 横に並べるために関数を書いておく\n",
    "    return display(Math(', '.join([(r\"$%s$\" % latex(t)) for t in l])))\n",
    "\n",
    "pythag_scale = create_pythagorean_scale(12)\n",
    "my_display(pythag_scale)"
   ]
  },
  {
   "cell_type": "markdown",
   "id": "2c2537b7",
   "metadata": {},
   "source": [
    "## 次は純正律を眺めてみよう\n",
    "\n",
    "次は、アリストクセノスが思い描き、プトレマイオスが作った純正律の比率だ。\n",
    "とてもシンプルで綺麗な比率になっている。"
   ]
  },
  {
   "cell_type": "code",
   "execution_count": 95,
   "id": "33ea46e5",
   "metadata": {
    "tags": [
     "hide-input"
    ]
   },
   "outputs": [
    {
     "data": {
      "text/latex": [
       "$\\displaystyle 1$, $\\frac{9}{8}$, $\\frac{5}{4}$, $\\frac{4}{3}$, $\\frac{3}{2}$, $\\frac{5}{3}$, $\\frac{15}{8}$, $2$"
      ],
      "text/plain": [
       "<IPython.core.display.Math object>"
      ]
     },
     "metadata": {},
     "output_type": "display_data"
    }
   ],
   "source": [
    "pure_scale = create_diatonic_scale(    # 純正律\n",
    "                    five_limit_constructors, \"TtsTtTs\")\n",
    "my_display(pure_scale)"
   ]
  },
  {
   "cell_type": "markdown",
   "id": "4dd5ba01",
   "metadata": {},
   "source": [
    "## 最後に平均律を眺めてみる\n",
    "\n",
    "最後は、やはりアリストクセノスが思い描き、メルセンヌが算出した平均律だ。\n",
    "有理的には全く綺麗ではないが、$\\sqrt{2}$という数字を受け入れさえすれば実に綺麗な比率となっている。"
   ]
  },
  {
   "cell_type": "code",
   "execution_count": 96,
   "id": "77d45872",
   "metadata": {
    "tags": [
     "hide-input"
    ]
   },
   "outputs": [
    {
     "data": {
      "text/latex": [
       "$\\displaystyle 1$, $\\sqrt[12]{2}$, $\\sqrt[6]{2}$, $\\sqrt[4]{2}$, $\\sqrt[3]{2}$, $2^{\\frac{5}{12}}$, $\\sqrt{2}$, $2^{\\frac{7}{12}}$, $2^{\\frac{2}{3}}$, $2^{\\frac{3}{4}}$, $2^{\\frac{5}{6}}$, $2^{\\frac{11}{12}}$, $2$"
      ],
      "text/plain": [
       "<IPython.core.display.Math object>"
      ]
     },
     "metadata": {},
     "output_type": "display_data"
    }
   ],
   "source": [
    "edo_scale = create_edo_scale(12)       # 平均律\n",
    "my_display(edo_scale)"
   ]
  },
  {
   "cell_type": "markdown",
   "id": "617a224e",
   "metadata": {},
   "source": [
    "## 「寄り道」も楽しい\n",
    "\n",
    "このシリーズの本来の目的は、史実にもとづきつつ「メロスの移動速度を検証」することであった。\n",
    "それが、第2回目の今回は、そうした内容とは全く離れた内容になってしまった。\n",
    "\n",
    "しかし、太宰治が描いた「走れメロス」の物語ではないが、寄り道も楽しいものである。\n",
    "昨日登場したメルセンヌが、脈絡なく、今日も登場したりする。\n",
    "もしかしたら、それは何かの必然で、空に浮かぶ星座のように、繋がっていくのかもしれない。"
   ]
  },
  {
   "cell_type": "code",
   "execution_count": null,
   "id": "a2b33076",
   "metadata": {},
   "outputs": [],
   "source": []
  }
 ],
 "metadata": {
  "celltoolbar": "Tags",
  "kernelspec": {
   "display_name": "jupyter-book-py311",
   "language": "python",
   "name": "jupyter-book-py311"
  },
  "language_info": {
   "codemirror_mode": {
    "name": "ipython",
    "version": 3
   },
   "file_extension": ".py",
   "mimetype": "text/x-python",
   "name": "python",
   "nbconvert_exporter": "python",
   "pygments_lexer": "ipython3",
   "version": "3.11.9"
  },
  "toc": {
   "base_numbering": 1,
   "nav_menu": {},
   "number_sections": true,
   "sideBar": true,
   "skip_h1_title": false,
   "title_cell": "Table of Contents",
   "title_sidebar": "Contents",
   "toc_cell": false,
   "toc_position": {},
   "toc_section_display": true,
   "toc_window_display": false
  }
 },
 "nbformat": 4,
 "nbformat_minor": 5
}
