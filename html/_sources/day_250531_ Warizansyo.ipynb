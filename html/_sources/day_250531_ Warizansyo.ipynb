{
 "cells": [
  {
   "cell_type": "markdown",
   "id": "c8b8c98a",
   "metadata": {},
   "source": [
    "# 「割算書」に書かれた「アダムとイブの割り勘」('24.05.31)\n",
    "\n",
    "\n",
    "## 「塵劫記」に先立つ「割算書」は創世記で始まる\n",
    "\n",
    "昨日は[塵劫記に書かれたイエズス会の「黒船問題」](https://hirax.github.io/wow/html/day_240530_jinkoki.html)を解いた。\n",
    "「塵劫記(1627)」を書いたのは、江戸時代前期の和算家だった吉田光由である。\n",
    "吉田光由が師事したのは毛利重能、「割算書(1622)」の著者だ。\n",
    "\n",
    "割算書の序文は[このように始まる](https://www.tamagawa.ac.jp/museum/archive/1991/013.html)。\n",
    "\n",
    "`````{admonition} 割算書 序文\n",
    "夫割算と云 ハ寿天屋辺連と云所に智恵万徳を備ハれる名木有 此木に百味之含霊の菓 一生一切人間の初 夫婦二人有故　是を其時二に割初より此方割算と云事有※\n",
    "\n",
    "※ユダヤのベツレヘムという場所に「知恵の樹」があった。その樹に実るのが全ての味を持つ果実。世界で最初の人間の夫婦がその果実を2つに割った。その時、世界に割り算が生まれた。\n",
    "`````\n",
    "\n",
    "%<img style=\"float:center;transform: rotate(0deg); height:10cm\" src=\"./images/day_240531_warizansyo.jpg\" />\n",
    "\n",
    "```{figure} ./images/day_240531_warizansyo.jpg\n",
    "---\n",
    "height: 10cm\n",
    "---\n",
    "割算書 序文\n",
    "```\n",
    "\n",
    "## アダムとイブの割り勘で、世界に割り算が生まれた\n",
    "\n",
    "これは、明らかに聖書「創世記」に描かれた物語だ。\n",
    "つまり、アダムとイヴが知恵の樹の果実を「2人で半分づつ」で食べたから、その時、世界に割り算が生まれたという宣言で「割算書」は始まる。\n",
    "今、この世界に割り勘、そして算術としての割り算が存在するのは、イブとアダムが某所で禁断の実を食べたからだ……という世界解説から、割算書のページは書き始められるのだ。\n",
    "……とても面白い解説である。\n",
    "\n",
    "## ただ2で割る単純な計算も、世界を創る物語\n",
    "\n",
    "というわけで、今日は1/2=0.5という計算をしてみる。\n",
    "ただ2で割るだけの単純な計算だと思ってはいけない。\n",
    "たとえば、1と2という自然数から0.5という少数も生まれていたりする。\n",
    "これは世界を創る物語であり、最初の第一歩なのだ。"
   ]
  },
  {
   "cell_type": "code",
   "execution_count": 7,
   "id": "5a59b56e",
   "metadata": {},
   "outputs": [
    {
     "name": "stdout",
     "output_type": "stream",
     "text": [
      "イブは 0.5 個食べる。\n",
      "アダムも 0.5 個食べる。\n"
     ]
    }
   ],
   "source": [
    "import numpy as np\n",
    "\n",
    "# 知恵の樹の果実\n",
    "fruit = 1\n",
    "\n",
    "# イブが果実を食べて、イブが好きなアダムも割り勘して食べる\n",
    "eve, adam = np.array([fruit,fruit])/2\n",
    "print(\"イブは\", eve, \"個食べる。\")\n",
    "print(\"アダムも\", adam, \"個食べる。\")"
   ]
  },
  {
   "cell_type": "markdown",
   "id": "5ec98bb4",
   "metadata": {},
   "source": [
    "## その時代の教科書は、その時代の世界を反映してる\n",
    "\n",
    "和算の教科書である「割算書」を読んでいると、その冒頭から聖書「創世記」が登場したりする。\n",
    "その時代の教科書は、その時代の世界観をリアルタイムに反映している。\n",
    "だから、数学の教科書でも、現代から眺めて見れば、その時代のニュースであったり世界観あるいは歴史観を写し出している。\n",
    "そんなことを思い浮かべながら本を読んでいると、とても面白い。"
   ]
  },
  {
   "cell_type": "code",
   "execution_count": null,
   "id": "660c3329",
   "metadata": {},
   "outputs": [],
   "source": []
  }
 ],
 "metadata": {
  "kernelspec": {
   "display_name": "jupyter-book-py311",
   "language": "python",
   "name": "jupyter-book-py311"
  },
  "language_info": {
   "codemirror_mode": {
    "name": "ipython",
    "version": 3
   },
   "file_extension": ".py",
   "mimetype": "text/x-python",
   "name": "python",
   "nbconvert_exporter": "python",
   "pygments_lexer": "ipython3",
   "version": "3.11.9"
  },
  "toc": {
   "base_numbering": 1,
   "nav_menu": {},
   "number_sections": true,
   "sideBar": true,
   "skip_h1_title": false,
   "title_cell": "Table of Contents",
   "title_sidebar": "Contents",
   "toc_cell": false,
   "toc_position": {},
   "toc_section_display": true,
   "toc_window_display": false
  }
 },
 "nbformat": 4,
 "nbformat_minor": 5
}
